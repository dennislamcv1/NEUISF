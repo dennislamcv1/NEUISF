{
 "cells": [
  {
   "cell_type": "markdown",
   "metadata": {
    "id": "439bd223"
   },
   "source": [
    "#  Week 3: Graded Lab \n",
    "### Topic: Clean Code in Python"
   ]
  },
  {
   "cell_type": "markdown",
   "metadata": {},
   "source": [
    "### Assignment Instructions\n",
    "In this assignment, you will write a Python program that calculates the sum of a provided list of even numbers."
   ]
  },
  {
   "cell_type": "markdown",
   "metadata": {
    "id": "910766e4"
   },
   "source": [
    "\n",
    "### Grading Rubric\n",
    "\n",
    "The code will be graded based on the following criteria.<br>\n",
    "\n",
    "**PEP 8 Compliance (2 points):**<br>\n",
    "- Proper function and variable naming conventions.\n",
    "- Correct indentation (4 spaces per level).\n",
    "- Appropriate use of whitespace, line length, and comments.\n",
    "\n",
    "**Function Correctness (4 points):**<br>\n",
    "- The function should correctly sum even numbers in the input list.\n",
    "- It should raise a ValueError if non-integer elements are present in the input list.\n",
    "- Handling Exceptions (1 points):\n",
    "- The function should properly handle exceptions as described in the prompt.\n",
    "\n",
    "**Efficiency (2 points):**<br>\n",
    "- The function should be efficient and not perform unnecessary calculations.\n",
    "\n",
    "**Test Cases (2 points):**<br>\n",
    "- Appropriate test cases will be used to validate the correctness of the function.\n",
    "\n",
    "**Total Score:** 10 points.\n"
   ]
  },
  {
   "cell_type": "markdown",
   "metadata": {},
   "source": [
    "## Submit Your Work \n",
    "\n",
    "This week, your code will be manually graded by course staff. Please follow the instructions within the following Staff Graded Assignment to submit a copy of your notebook for review."
   ]
  },
  {
   "cell_type": "code",
   "execution_count": 1,
   "metadata": {},
   "outputs": [
    {
     "name": "stdout",
     "output_type": "stream",
     "text": [
      "All test cases passed!\n"
     ]
    }
   ],
   "source": [
    "def sum_of_even_numbers(numbers):\n",
    "    \"\"\"\n",
    "    Calculate the sum of even numbers in a list.\n",
    "\n",
    "    Args:\n",
    "    numbers (list): A list of integers.\n",
    "\n",
    "    Returns:\n",
    "    int: The sum of even numbers in the list.\n",
    "    \"\"\"\n",
    "    # Ensure that the input is a list\n",
    "    if not isinstance(numbers, list):\n",
    "        raise TypeError(\"Input must be a list\")\n",
    "    \n",
    "    # Initialize the sum\n",
    "    total_sum = 0\n",
    "    \n",
    "    # Iterate through the list and add even numbers to the sum\n",
    "    for num in numbers:\n",
    "        if num % 2 == 0:\n",
    "            total_sum += num\n",
    "    \n",
    "    return total_sum\n",
    "\n",
    "# Test cases\n",
    "def test_sum_of_even_numbers():\n",
    "    # Test case 1: empty list\n",
    "    assert sum_of_even_numbers([]) == 0\n",
    "    \n",
    "    # Test case 2: list with only odd numbers\n",
    "    assert sum_of_even_numbers([1, 3, 5]) == 0\n",
    "    \n",
    "    # Test case 3: list with only even numbers\n",
    "    assert sum_of_even_numbers([2, 4, 6]) == 12\n",
    "    \n",
    "    # Test case 4: mixed list of even and odd numbers\n",
    "    assert sum_of_even_numbers([1, 2, 3, 4, 5, 6]) == 12\n",
    "    \n",
    "    # Test case 5: list with negative even numbers\n",
    "    assert sum_of_even_numbers([-2, -4, -6]) == -12\n",
    "    \n",
    "    print(\"All test cases passed!\")\n",
    "\n",
    "if __name__ == \"__main__\":\n",
    "    test_sum_of_even_numbers()\n"
   ]
  },
  {
   "cell_type": "code",
   "execution_count": null,
   "metadata": {},
   "outputs": [],
   "source": []
  }
 ],
 "metadata": {
  "colab": {
   "provenance": []
  },
  "kernelspec": {
   "display_name": "Python 3",
   "language": "python",
   "name": "python3"
  },
  "language_info": {
   "codemirror_mode": {
    "name": "ipython",
    "version": 3
   },
   "file_extension": ".py",
   "mimetype": "text/x-python",
   "name": "python",
   "nbconvert_exporter": "python",
   "pygments_lexer": "ipython3",
   "version": "3.7.6"
  }
 },
 "nbformat": 4,
 "nbformat_minor": 5
}
