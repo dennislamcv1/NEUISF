{
 "cells": [
  {
   "cell_type": "markdown",
   "metadata": {},
   "source": [
    "# Week 3 Coding Session: Clean Code II"
   ]
  },
  {
   "cell_type": "markdown",
   "metadata": {},
   "source": [
    "## Question 1"
   ]
  },
  {
   "cell_type": "markdown",
   "metadata": {},
   "source": [
    "### Review"
   ]
  },
  {
   "cell_type": "markdown",
   "metadata": {},
   "source": [
    "Review the following code and then proceed to the task."
   ]
  },
  {
   "cell_type": "code",
   "execution_count": 1,
   "metadata": {},
   "outputs": [
    {
     "name": "stdout",
     "output_type": "stream",
     "text": [
      "The area of the rectangle is: 50\n"
     ]
    }
   ],
   "source": [
    "# rctngle_area - This function calculates the area of a rectangle given its length and width.\n",
    "def rctngle_Area(lngth, wdth):\n",
    "    # a - Variable to store the area of the rectangle\n",
    "    a = lngth * wdth\n",
    "    return a\n",
    "\n",
    "# Input values\n",
    "length = 5\n",
    "width = 10\n",
    "\n",
    "# Calculate and print the area of the rectangle\n",
    "result = rctngle_Area(length, width)\n",
    "print(f'The area of the rectangle is: {result}')"
   ]
  },
  {
   "cell_type": "markdown",
   "metadata": {},
   "source": [
    "### Task"
   ]
  },
  {
   "cell_type": "markdown",
   "metadata": {},
   "source": [
    "The following code is intended to calculate the area of a rectangle. However, it does not adhere to PEP 8 naming conventions, and the comments need improvement. Correct the variable names and comments to comply with PEP 8.\n",
    "\n",
    "Once you have completed the task and are satisfied with your attempt, review the following solution and explanation."
   ]
  },
  {
   "cell_type": "markdown",
   "metadata": {},
   "source": [
    "### Solution"
   ]
  },
  {
   "cell_type": "code",
   "execution_count": 2,
   "metadata": {},
   "outputs": [
    {
     "name": "stdout",
     "output_type": "stream",
     "text": [
      "The area of the rectangle is: 50\n"
     ]
    }
   ],
   "source": [
    "def rectangle_area(length, width):\n",
    "    # Calculate the area of the rectangle\n",
    "    area = length * width\n",
    "    return area\n",
    "\n",
    "# Input values\n",
    "length = 5\n",
    "width = 10\n",
    "\n",
    "# Calculate and print the area of the rectangle\n",
    "result = rectangle_area(length, width)\n",
    "print(f'The area of the rectangle is: {result}')"
   ]
  },
  {
   "cell_type": "markdown",
   "metadata": {},
   "source": [
    "### Explanation"
   ]
  },
  {
   "cell_type": "markdown",
   "metadata": {},
   "source": [
    "- Variable and function names should be descriptive and follow snake_case naming convention.\n",
    "- Comments should provide meaningful explanations without stating the obvious."
   ]
  },
  {
   "cell_type": "markdown",
   "metadata": {},
   "source": [
    "## Question 2"
   ]
  },
  {
   "cell_type": "markdown",
   "metadata": {},
   "source": [
    "### Review"
   ]
  },
  {
   "cell_type": "markdown",
   "metadata": {},
   "source": [
    "Review the following code and then proceed to the task."
   ]
  },
  {
   "cell_type": "code",
   "execution_count": 4,
   "metadata": {},
   "outputs": [
    {
     "name": "stdout",
     "output_type": "stream",
     "text": [
      "The square of the number is: 16\n"
     ]
    }
   ],
   "source": [
    "def sqr(num):\n",
    "    return num * num\n",
    "\n",
    "# Example usage\n",
    "result = sqr(4)\n",
    "print(f'The square of the number is: {result}')"
   ]
  },
  {
   "cell_type": "markdown",
   "metadata": {},
   "source": [
    "### Task"
   ]
  },
  {
   "cell_type": "markdown",
   "metadata": {},
   "source": [
    "The following code defines a function to calculate the square of a number. However, the function name and the lack of a docstring do not conform to PEP 8. Correct the function name and add a docstring following PEP 8 guidelines."
   ]
  },
  {
   "cell_type": "markdown",
   "metadata": {},
   "source": [
    "### Solution"
   ]
  },
  {
   "cell_type": "code",
   "execution_count": null,
   "metadata": {},
   "outputs": [],
   "source": [
    "def square_number(number):\n",
    "    \"\"\"\n",
    "    Calculate the square of a given number.\n",
    "\n",
    "    Parameters:\n",
    "    - number (int or float): The number to be squared.\n",
    "\n",
    "    Returns:\n",
    "    int or float: The square of the input number.\n",
    "    \"\"\"\n",
    "    return number * number\n",
    "\n",
    "# Example usage\n",
    "result = square_number(4)\n",
    "print(f'The square of the number is: {result}')"
   ]
  },
  {
   "cell_type": "markdown",
   "metadata": {},
   "source": [
    "### Explanation"
   ]
  },
  {
   "cell_type": "markdown",
   "metadata": {},
   "source": [
    "- Function names should be descriptive and follow snake_case naming convention.\n",
    "- Docstrings should be used to provide documentation for functions."
   ]
  },
  {
   "cell_type": "markdown",
   "metadata": {},
   "source": [
    "## Conclusion"
   ]
  },
  {
   "cell_type": "markdown",
   "metadata": {},
   "source": [
    "Now that you have put your knowledge into practice, you should be prepared to tackle the graded assessments for this week. If you are still unclear on any concepts, revisit the 'Review' sections and reach out to your peers for help using the discussion board provided, or Slack."
   ]
  }
 ],
 "metadata": {
  "kernelspec": {
   "display_name": "Python 3",
   "language": "python",
   "name": "python3"
  },
  "language_info": {
   "codemirror_mode": {
    "name": "ipython",
    "version": 3
   },
   "file_extension": ".py",
   "mimetype": "text/x-python",
   "name": "python",
   "nbconvert_exporter": "python",
   "pygments_lexer": "ipython3",
   "version": "3.7.6"
  }
 },
 "nbformat": 4,
 "nbformat_minor": 5
}
