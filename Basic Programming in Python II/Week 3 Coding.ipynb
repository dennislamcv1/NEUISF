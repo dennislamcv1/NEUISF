{
 "cells": [
  {
   "cell_type": "markdown",
   "metadata": {},
   "source": [
    "# Coding Challenge: Module 3\n",
    "\n",
    "For this assignment, you will need to write a Python function that takes a string and an integer as input and repeats each character in the string the specified number of times. In order to do this, you must draw on your knowledge of fundamental and advanced loop concepts. To complete this assignment, follow the prompts provided and submit the required .ipynb and .mp4 files."
   ]
  },
  {
   "cell_type": "code",
   "execution_count": 1,
   "metadata": {},
   "outputs": [
    {
     "name": "stdout",
     "output_type": "stream",
     "text": [
      "hhheeellllllooo\n"
     ]
    },
    {
     "data": {
      "text/plain": [
       "'xxooxxoo'"
      ]
     },
     "execution_count": 1,
     "metadata": {},
     "output_type": "execute_result"
    }
   ],
   "source": [
    "def repeat_characters(input_string: str, repeat_count: int) -> str:\n",
    "    \"\"\"\n",
    "    Repeats each character in the input string the specified number of times.\n",
    "\n",
    "    Args:\n",
    "        input_string (str): The input string.\n",
    "        repeat_count (int): The number of times to repeat each character.\n",
    "\n",
    "    Returns:\n",
    "        str: The resulting string with characters repeated.\n",
    "    \"\"\"\n",
    "    if not isinstance(input_string, str) or not isinstance(repeat_count, int) or repeat_count <= 0:\n",
    "        raise ValueError(\"Invalid input. The input string must be a string and repeat_count must be a positive integer.\")\n",
    "\n",
    "    repeated_string = \"\"\n",
    "    for char in input_string:\n",
    "        repeated_string += char * repeat_count\n",
    "\n",
    "    return repeated_string\n",
    "\n",
    "# Example usage:\n",
    "input_str = \"hello\"\n",
    "repeated_str = repeat_characters(input_str, 3)\n",
    "print(repeated_str)  # Output: \"hhheeellllllooo\"\n",
    "\n",
    "repeat_characters(\"xoxo\", 2) # Output: \"xxooxxoo\""
   ]
  }
 ],
 "metadata": {
  "kernelspec": {
   "display_name": "base",
   "language": "python",
   "name": "python3"
  },
  "language_info": {
   "codemirror_mode": {
    "name": "ipython",
    "version": 3
   },
   "file_extension": ".py",
   "mimetype": "text/x-python",
   "name": "python",
   "nbconvert_exporter": "python",
   "pygments_lexer": "ipython3",
   "version": "3.8.18"
  }
 },
 "nbformat": 4,
 "nbformat_minor": 2
}
