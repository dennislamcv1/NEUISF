{
 "cells": [
  {
   "cell_type": "markdown",
   "metadata": {},
   "source": [
    "# Week 2 Coding Session: Expressions and Operators"
   ]
  },
  {
   "cell_type": "markdown",
   "metadata": {},
   "source": [
    "## Question 1"
   ]
  },
  {
   "cell_type": "markdown",
   "metadata": {},
   "source": [
    "### Review"
   ]
  },
  {
   "cell_type": "code",
   "execution_count": null,
   "metadata": {},
   "outputs": [],
   "source": [
    "#### Review the following code and then proceed to the task."
   ]
  },
  {
   "cell_type": "code",
   "execution_count": null,
   "metadata": {},
   "outputs": [],
   "source": [
    "# Variables with inappropriate names\n",
    "variable_one = 10\n",
    "var_two = 12.5\n",
    "result_sum = var_one + var_two\n",
    "\n",
    "# Function with inappropriate name\n",
    "def calculate_Result():\n",
    "    return result_sum\n",
    "\n",
    "# Print the result using a function\n",
    "print(\"Result:\", calculate_Result())\n",
    "\n",
    "# Comparison operation\n",
    "is_equal = var_one == var_two\n",
    "\n",
    "# Print the result of the comparison\n",
    "print(\"Are var_one and var_two equal?\", is_equal)"
   ]
  },
  {
   "cell_type": "markdown",
   "metadata": {},
   "source": [
    "### Task"
   ]
  },
  {
   "cell_type": "markdown",
   "metadata": {},
   "source": [
    "In order to complete this task, you will need to:\n",
    "\n",
    "- Identify and correct the inappropriate variable names according to Python naming conventions.\n",
    "- Update the function name to adhere to Python naming conventions.\n",
    "- Use the type() function to identify and print the data types of var_one, var_two, and result_sum.\n",
    "- Modify the code to include a new variable var_three with a value of 7 and perform a comparison operation to check if var_three is greater than var_one."
   ]
  },
  {
   "cell_type": "markdown",
   "metadata": {},
   "source": [
    "Once you have completed the task and are satisfied with your attempt, review the following solution and explanation."
   ]
  },
  {
   "cell_type": "markdown",
   "metadata": {},
   "source": [
    "### Solution"
   ]
  },
  {
   "cell_type": "code",
   "execution_count": null,
   "metadata": {},
   "outputs": [],
   "source": [
    "# Corrected code:\n",
    "\n",
    "# Variables with appropriate names\n",
    "var_one = 10\n",
    "var_two = 12.5\n",
    "result_sum = var_one + var_two\n",
    "\n",
    "# Function with appropriate name\n",
    "def calculate_result():\n",
    "    return result_sum\n",
    "\n",
    "# Print the result using a function\n",
    "print(\"Result:\", calculate_result())\n",
    "\n",
    "# Type of variables\n",
    "print(\"Type of 'var_one':\", type(var_one))\n",
    "print(\"Type of 'var_two':\", type(var_two))\n",
    "print(\"Type of 'result_sum':\", type(result_sum))\n",
    "\n",
    "# Comparison operation with a new variable\n",
    "var_three = 7\n",
    "is_greater_than = var_three > var_one\n",
    "\n",
    "# Print the result of the comparison\n",
    "print(\"Is var_three greater than var_one?\", is_greater_than)"
   ]
  },
  {
   "cell_type": "markdown",
   "metadata": {},
   "source": [
    "### Explanation"
   ]
  },
  {
   "cell_type": "markdown",
   "metadata": {},
   "source": [
    "- Variable names have been changed to adhere to Python naming conventions (snake_case).\n",
    "- The function name has been updated to calculate_result to follow naming conventions.\n",
    "- The type() function is used to identify and print the data types of var_one, var_two, and result_sum.\n",
    "- A new variable var_three is introduced, and a comparison operation checks if it is greater than var_one. The result is printed."
   ]
  },
  {
   "cell_type": "markdown",
   "metadata": {},
   "source": [
    "## Conclusion"
   ]
  },
  {
   "cell_type": "markdown",
   "metadata": {},
   "source": [
    "Now that you have put your knowledge into practice, you should be prepared to tackle the graded assessments for this week. If you are still unclear on any concepts, revisit the 'Review' sections and reach out to your peers for help using the discussion board provided, or Slack."
   ]
  }
 ],
 "metadata": {
  "kernelspec": {
   "display_name": "Python 3",
   "language": "python",
   "name": "python3"
  },
  "language_info": {
   "codemirror_mode": {
    "name": "ipython",
    "version": 3
   },
   "file_extension": ".py",
   "mimetype": "text/x-python",
   "name": "python",
   "nbconvert_exporter": "python",
   "pygments_lexer": "ipython3",
   "version": "3.7.6"
  }
 },
 "nbformat": 4,
 "nbformat_minor": 5
}
