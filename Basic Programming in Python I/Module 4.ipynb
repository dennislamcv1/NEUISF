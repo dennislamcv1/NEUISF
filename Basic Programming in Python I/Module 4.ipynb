{
 "cells": [
  {
   "cell_type": "markdown",
   "metadata": {},
   "source": [
    "## Coding Challenge: Module 4\n",
    "\n",
    "Write a Python function named calculate_square(n) that calculates the square of a given integer n. Ensure that the function adheres to PEP 8 style guidelines and uses documentation with parameter descriptions."
   ]
  },
  {
   "cell_type": "markdown",
   "metadata": {},
   "source": []
  },
  {
   "cell_type": "code",
   "execution_count": 1,
   "metadata": {},
   "outputs": [
    {
     "name": "stdout",
     "output_type": "stream",
     "text": [
      "The square of 5 is: 25\n"
     ]
    }
   ],
   "source": [
    "def calculate_square(n):\n",
    "    \"\"\"\n",
    "    This function calculates the square of a given integer n.\n",
    "\n",
    "    Parameters:\n",
    "    n (int): The integer to be squared.\n",
    "\n",
    "    Returns:\n",
    "    int: The square of the input integer.\n",
    "    \"\"\"\n",
    "    return n * n\n",
    "\n",
    "# Example usage\n",
    "result = calculate_square(5)\n",
    "print(\"The square of 5 is:\", result)  # Output: The square of 5 is: 25\n"
   ]
  }
 ],
 "metadata": {
  "kernelspec": {
   "display_name": "base",
   "language": "python",
   "name": "python3"
  },
  "language_info": {
   "codemirror_mode": {
    "name": "ipython",
    "version": 3
   },
   "file_extension": ".py",
   "mimetype": "text/x-python",
   "name": "python",
   "nbconvert_exporter": "python",
   "pygments_lexer": "ipython3",
   "version": "3.8.18"
  }
 },
 "nbformat": 4,
 "nbformat_minor": 2
}
