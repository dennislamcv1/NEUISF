{
 "cells": [
  {
   "cell_type": "markdown",
   "metadata": {},
   "source": [
    "# Week 5 Coding Session: Functions"
   ]
  },
  {
   "cell_type": "markdown",
   "metadata": {},
   "source": [
    "## Question 1"
   ]
  },
  {
   "cell_type": "markdown",
   "metadata": {},
   "source": [
    "Implement a Python function named find_max_in_list(lst) that finds and returns the maximum value in a given list. Follow PEP 8 style guidelines in your implementation.\n",
    "\n",
    "Once you have completed the task and are satisfied with your attempt, review the following solution and explanation."
   ]
  },
  {
   "cell_type": "code",
   "execution_count": null,
   "metadata": {},
   "outputs": [],
   "source": []
  },
  {
   "cell_type": "markdown",
   "metadata": {},
   "source": [
    "### Solution"
   ]
  },
  {
   "cell_type": "code",
   "execution_count": 1,
   "metadata": {},
   "outputs": [],
   "source": [
    "def find_max_in_list(my_list):\n",
    "    \"\"\"\n",
    "    Finds the maximum value in a given list.\n",
    "\n",
    "    Parameters:\n",
    "    - my_list (list): The input list.\n",
    "\n",
    "    Returns:\n",
    "    - int or float: The maximum value in the list.\n",
    "    \"\"\"\n",
    "    if not my_list:\n",
    "        result = None\n",
    "    else:\n",
    "        result = max(my_list)\n",
    "    return result"
   ]
  },
  {
   "cell_type": "code",
   "execution_count": 2,
   "metadata": {},
   "outputs": [],
   "source": [
    "# Test Case 1\n",
    "result = find_max_in_list([3, 7, 2, 9, 5])\n",
    "assert result == 9, f\"Expected: 9, Got: {result}\"\n",
    "\n",
    "# Test Case 2\n",
    "result = find_max_in_list([-10, -5, -8, -3])\n",
    "assert result == -3, f\"Expected: -3, Got: {result}\"\n",
    "\n",
    "# Test Case 3\n",
    "result = find_max_in_list([])\n",
    "assert result is None, f\"Expected: None, Got: {result}\""
   ]
  },
  {
   "cell_type": "markdown",
   "metadata": {},
   "source": [
    "### Explanation"
   ]
  },
  {
   "cell_type": "markdown",
   "metadata": {},
   "source": [
    "- The function takes one parameter, my_list, which is expected to be a list of numeric values (integers or floats).\n",
    "- The function starts with a conditional statement that checks if the input list, my_list, is empty (i.e., has no elements). If the list is empty, the variable result is set to None. This is done to handle the case where the input list is empty, and there is no maximum value to find.\n",
    "- If the input list is not empty, the else block is executed, and the variable result is assigned the maximum value in the list using the max function.\n",
    "- Finally, the function returns the value stored in the result variable, which is either the maximum value in the list or None if the list is empty."
   ]
  },
  {
   "cell_type": "markdown",
   "metadata": {},
   "source": [
    "## Question 2"
   ]
  },
  {
   "cell_type": "markdown",
   "metadata": {},
   "source": [
    "Write a Python function called is_prime(num) that determines whether a given positive integer num is a prime number or not. Ensure the function follows PEP 8 guidelines.\n",
    "\n",
    "Once you have completed the task and are satisfied with your attempt, review the following solution and explanation."
   ]
  },
  {
   "cell_type": "code",
   "execution_count": null,
   "metadata": {},
   "outputs": [],
   "source": []
  },
  {
   "cell_type": "markdown",
   "metadata": {},
   "source": [
    "### Solution"
   ]
  },
  {
   "cell_type": "code",
   "execution_count": 3,
   "metadata": {},
   "outputs": [],
   "source": [
    "def is_prime(num):\n",
    "    \"\"\"\n",
    "    Checks if a given positive integer is a prime number.\n",
    "\n",
    "    Parameters:\n",
    "    - num (int): The input positive integer.\n",
    "\n",
    "    Returns:\n",
    "    - bool: True if the number is prime, False otherwise.\n",
    "    \"\"\"\n",
    "    result = True\n",
    "    if num < 2:\n",
    "        result = False\n",
    "    else: \n",
    "        for i in range(2, int(num**0.5) + 1):\n",
    "            if num % i == 0:\n",
    "                result = False\n",
    "    return result"
   ]
  },
  {
   "cell_type": "code",
   "execution_count": 4,
   "metadata": {},
   "outputs": [],
   "source": [
    "# Test Case 1\n",
    "result = is_prime(7)\n",
    "assert result is True, f\"Expected: True, Got: {result}\"\n",
    "\n",
    "# Test Case 2\n",
    "result = is_prime(10)\n",
    "assert result is False, f\"Expected: False, Got: {result}\"\n",
    "\n",
    "# Test Case 3\n",
    "result = is_prime(1)\n",
    "assert result is False, f\"Expected: False, Got: {result}\"\n",
    "\n",
    "# Test Case 4\n",
    "result = is_prime(13)\n",
    "assert result is True, f\"Expected: True, Got: {result}\""
   ]
  },
  {
   "cell_type": "markdown",
   "metadata": {},
   "source": [
    "### Explanation"
   ]
  },
  {
   "cell_type": "markdown",
   "metadata": {},
   "source": [
    "The function takes one parameter, num, which is expected to be a positive integer.<br>\n",
    "- result = True, the function assumes any input, num, is a prime number and returns True. The function will start to check the validity of this statement via the following steps.  \n",
    "- The first conditional statement checks if num is less than 2. If num is less than 2, it means the number is not a prime number, as prime numbers are defined as positive integers greater than 1. In such a case, the function returns False.\n",
    "- If num is greater than or equal to 2, the function proceeds to a loop that iterates from 2 to the square root of num (rounded up to the nearest integer). The loop variable is denoted by i.\n",
    "- The loop checks if num is divisible by i (i.e., if num % i equals 0). If it is, it means that num has a divisor other than 1 and itself, making it a non-prime number. In this case, the function returns False.\n",
    "- If no divisors are found in the loop, the function concludes that num is a prime number and returns True.\n",
    "- The use of iterating up to the square root of num is an optimization technique. It's based on the observation that if a number has a divisor larger than its square root, it must also have a corresponding divisor smaller than the square root. Therefore, checking up to the square root is sufficient to determine primality.<br>\n",
    "\n",
    "In summary, the is_prime function checks whether a given positive integer is a prime number by first excluding numbers less than 2 and then iterating up to the square root to check for divisors. If no divisors are found, the function returns True, indicating that the number is prime; otherwise, it returns False."
   ]
  },
  {
   "cell_type": "markdown",
   "metadata": {},
   "source": [
    "## Question 3"
   ]
  },
  {
   "cell_type": "markdown",
   "metadata": {},
   "source": [
    "Implement a Python function named calculate_average(lst) that calculates the average of a list of numeric values. Ensure adherence to PEP 8 style guidelines.\n",
    "\n",
    "Once you have completed the task and are satisfied with your attempt, review the following solution and explanation."
   ]
  },
  {
   "cell_type": "code",
   "execution_count": null,
   "metadata": {},
   "outputs": [],
   "source": []
  },
  {
   "cell_type": "markdown",
   "metadata": {},
   "source": [
    "### Solution"
   ]
  },
  {
   "cell_type": "code",
   "execution_count": 5,
   "metadata": {},
   "outputs": [],
   "source": [
    "def calculate_average(my_list):\n",
    "    \"\"\"\n",
    "    Calculates the average of a list of numeric values.\n",
    "\n",
    "    Parameters:\n",
    "    - my_list (list): The input list of numeric values.\n",
    "\n",
    "    Returns:\n",
    "    - float: The average of the numeric values in the list.\n",
    "    \"\"\"\n",
    "    if not my_list:\n",
    "        result = None\n",
    "    else:\n",
    "        result = sum(my_list) / len(my_list)\n",
    "    return result"
   ]
  },
  {
   "cell_type": "code",
   "execution_count": 6,
   "metadata": {},
   "outputs": [],
   "source": [
    "# Test Case 1\n",
    "result = calculate_average([4, 8, 12, 6])\n",
    "assert result == 7.5, f\"Expected: 7.5, Got: {result}\"\n",
    "\n",
    "# Test Case 2\n",
    "result = calculate_average([-5, 0, 5])\n",
    "assert result == 0, f\"Expected: 0, Got: {result}\"\n",
    "\n",
    "# Test Case 3\n",
    "result = calculate_average([])\n",
    "assert result is None, f\"Expected: None, Got: {result}\""
   ]
  },
  {
   "cell_type": "markdown",
   "metadata": {},
   "source": [
    "### Explanation"
   ]
  },
  {
   "cell_type": "markdown",
   "metadata": {},
   "source": [
    "- The function takes one parameter, my_list, which is expected to be a list containing numeric values (integers or floats).\n",
    "- The function begins with a conditional statement that checks if the input list, my_list, is empty (i.e., has no elements). If the list is empty, the variable result is set to None. This is done to handle the case where the input list is empty, and there is no average to calculate.\n",
    "- If the input list is not empty, the else block is executed. In this block, the variable result is assigned the value of the sum of all elements in the list divided by the number of elements (len(my_list)). This calculation represents the average of the numeric values in the list.\n",
    "- Finally, the function returns the value stored in the result variable, which is either the calculated average or None if the list is empty."
   ]
  },
  {
   "cell_type": "markdown",
   "metadata": {},
   "source": [
    "# Conclusion"
   ]
  },
  {
   "cell_type": "markdown",
   "metadata": {},
   "source": [
    "Now that you have put your knowledge into practice, you should be prepared to tackle the graded assessments for this week. If you are still unclear on any concepts, revisit the 'Review' sections and reach out to your peers for help using the discussion board provided, or Slack."
   ]
  },
  {
   "cell_type": "code",
   "execution_count": null,
   "metadata": {},
   "outputs": [],
   "source": []
  }
 ],
 "metadata": {
  "kernelspec": {
   "display_name": "Python 3",
   "language": "python",
   "name": "python3"
  },
  "language_info": {
   "codemirror_mode": {
    "name": "ipython",
    "version": 3
   },
   "file_extension": ".py",
   "mimetype": "text/x-python",
   "name": "python",
   "nbconvert_exporter": "python",
   "pygments_lexer": "ipython3",
   "version": "3.7.6"
  }
 },
 "nbformat": 4,
 "nbformat_minor": 5
}
