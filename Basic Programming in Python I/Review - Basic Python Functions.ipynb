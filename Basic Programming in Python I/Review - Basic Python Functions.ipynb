{
 "cells": [
  {
   "cell_type": "markdown",
   "metadata": {},
   "source": [
    "# Review and Practice\n",
    "\n",
    "Let's examine examples and basic practices to review key learnings on basic functions concepts. Each key concept is explained and illustrated through the use of an example.\n",
    "\n",
    "Read through the information, review the examples, work through the code analyses, and try your hand \n",
    "at creating your own code to bolster your knowledge."
   ]
  },
  {
   "cell_type": "markdown",
   "metadata": {},
   "source": [
    "## Recall: Defining Functions\n",
    "\n",
    "In Python, a function is defined using the def keyword, followed by the function name, a pair of parentheses, and a colon. The following code illustrates the basic syntax for defining a function."
   ]
  },
  {
   "cell_type": "markdown",
   "metadata": {},
   "source": [
    "```python\n",
    "def function_name(parameters):\n",
    "    # Function body (code that defines what the function does)\n",
    "    # . . .\n",
    "    return result # Optional, used to return a value to the caller\n",
    "```"
   ]
  },
  {
   "cell_type": "markdown",
   "metadata": {},
   "source": [
    "Let's break down the components of this syntax."
   ]
  },
  {
   "cell_type": "markdown",
   "metadata": {},
   "source": [
    "| Function Component | Component Purpose |\n",
    "|:-------------------|:------------------|\n",
    "| 'def'              | This is the keyword used to start the function definition. |\n",
    "| 'function_name'    | This is the name you choose for your function. It should follow Python's naming conventions, such as using lowercase letters and underscores for readability. The function name must be followed by a pair of parentheses. |\n",
    "| 'parameters'       | Inside the parentheses, you can specify zero or more parameters (also called arguments) that the function takes as input. Parameters are separated by commas. If the function doesn't take any parameters, you still need to include empty parentheses (). |\n",
    "| The colon (':')    | After the closing parenthesis, you must add a colon to indicate the start of the function's body. |\n",
    "| Function body ('# . . .') | This is where you write the code that defines what the function does. The function body is indented (usually with four spaces or a tab) to indicate that it is a part of the function. |\n",
    "| Return statement  ('return result') | The `return’ statement is optional but used to specify the value that the function should return to the caller. If no return statement is present, the function returns 'None' by default. |"
   ]
  },
  {
   "cell_type": "markdown",
   "metadata": {},
   "source": [
    "Review the following example of a simple Python function that adds two numbers."
   ]
  },
  {
   "cell_type": "code",
   "execution_count": 1,
   "metadata": {},
   "outputs": [],
   "source": [
    "def add_numbers(x, y):\n",
    "    result = x + y\n",
    "    return result"
   ]
  },
  {
   "cell_type": "markdown",
   "metadata": {},
   "source": [
    "In this example: \n",
    "\n",
    "- 'add_numbers' is the function name.\n",
    "- '(x, y)' are the parameters\n",
    "- 'result = x + y' is the code inside the function body that calculates the sum of 'x' and 'y.'\n",
    "- 'return result' is used to return the result of the addition back to the caller."
   ]
  },
  {
   "cell_type": "markdown",
   "metadata": {},
   "source": [
    "You can call this function by passing two numbers as arguments. Review the following example and run the code to view the output."
   ]
  },
  {
   "cell_type": "code",
   "execution_count": 2,
   "metadata": {},
   "outputs": [
    {
     "name": "stdout",
     "output_type": "stream",
     "text": [
      "6\n"
     ]
    }
   ],
   "source": [
    "result = add_numbers(4, 2)\n",
    "print(result)"
   ]
  },
  {
   "cell_type": "markdown",
   "metadata": {},
   "source": [
    "This is the basic syntax for defining and using functions in Python. Functions can be more complex and include various statements and logic to perform specific tasks."
   ]
  },
  {
   "cell_type": "markdown",
   "metadata": {},
   "source": [
    "-------------------------------------------------------------------------------------------------------------------------------\n",
    "**Note**\n",
    "\n",
    "A parameter is the variable listed inside the parentheses in the function definition. An argument is the values that are sent to the function when it is called.\n",
    "\n",
    "-------------------------------------------------------------------------------------------------------------------------------"
   ]
  },
  {
   "cell_type": "markdown",
   "metadata": {},
   "source": [
    "## Scope and Lifetime of Variables\n",
    "\n",
    "Variables defined inside a function in Python are considered local to that function because of the scoping rules in the Python programming language. Scoping rules define the region in which a variable is accessible and can be used. Python follows a principle known as \"lexical scoping\" or \"static scoping,\" which means that the scope of a variable is determined by where it is defined in the source code, not where it is called or used during runtime.\n",
    "\n",
    "There are a few key reasons why variables defined inside a function are local to that function."
   ]
  },
  {
   "cell_type": "markdown",
   "metadata": {},
   "source": [
    "| Reason | Description |\n",
    "|:-------|:------------|\n",
    "| Local Scope | When you define a variable inside a function, it creates a local scope for that variable. This local scope is limited to the body of the function, and the variable is accessible only within that function. |\n",
    "| Encapsulation | Local variables inside a function are encapsulated within that function's scope. This encapsulation ensures that variables inside the function do not interfere with variables of the same name outside the function (global scope). This helps prevent unintended side effects and maintains code isolation. |\n",
    "| Namespace | Each function has its own namespace or symbol table, which stores information about the variables, functions, and other objects defined within that function. Variables declared within a function are stored in this namespace, making them distinct from variables in other namespaces. |\n",
    "| Lifetime | Local variables have a limited lifetime. They are created when the function is called and destroyed when the function exits. This means that the memory used by local variables is reclaimed when they are no longer needed, helping manage memory efficiently. |"
   ]
  },
  {
   "cell_type": "markdown",
   "metadata": {},
   "source": [
    "### Local Scope"
   ]
  },
  {
   "cell_type": "markdown",
   "metadata": {},
   "source": [
    "Review the following example, which illustrates the concept of local scope, and run the code to view the output."
   ]
  },
  {
   "cell_type": "code",
   "execution_count": 5,
   "metadata": {},
   "outputs": [
    {
     "name": "stdout",
     "output_type": "stream",
     "text": [
      "36\n"
     ]
    }
   ],
   "source": [
    "def my_function():\n",
    "    local_variable = 36 # This variable is local to my_function\n",
    "    print(local_variable)\n",
    "my_function() # Call the function"
   ]
  },
  {
   "cell_type": "markdown",
   "metadata": {},
   "source": [
    "As illustrated, you can access 'local_variable' within the function 'my_function' where it is defined. However, if you want to access 'local_variable' directly, you'll receive an error message. \n",
    "\n",
    "Review the following example and run the code to view the error."
   ]
  },
  {
   "cell_type": "code",
   "execution_count": 7,
   "metadata": {},
   "outputs": [
    {
     "ename": "NameError",
     "evalue": "name 'local_variable' is not defined",
     "output_type": "error",
     "traceback": [
      "\u001b[0;31m---------------------------------------------------------------------------\u001b[0m",
      "\u001b[0;31mNameError\u001b[0m                                 Traceback (most recent call last)",
      "\u001b[0;32m<ipython-input-7-c16d4ec3a139>\u001b[0m in \u001b[0;36m<module>\u001b[0;34m\u001b[0m\n\u001b[0;32m----> 1\u001b[0;31m \u001b[0mprint\u001b[0m\u001b[0;34m(\u001b[0m\u001b[0mlocal_variable\u001b[0m\u001b[0;34m)\u001b[0m \u001b[0;31m# This will result in a NameError because local_variable is not defined in the global scope\u001b[0m\u001b[0;34m\u001b[0m\u001b[0;34m\u001b[0m\u001b[0m\n\u001b[0m",
      "\u001b[0;31mNameError\u001b[0m: name 'local_variable' is not defined"
     ]
    }
   ],
   "source": [
    "print(local_variable) # This will result in a NameError because local_variable is not defined in the global scope"
   ]
  },
  {
   "cell_type": "markdown",
   "metadata": {},
   "source": [
    "In this example, `local_variable’ is defined inside 'my_function,' and it is accessible only within the function. Attempting to access it outside the function's scope (in the global scope) results in a NameError because Python cannot find that variable in the global namespace."
   ]
  },
  {
   "cell_type": "markdown",
   "metadata": {},
   "source": [
    "### Global Scope\n",
    "\n",
    "Review the following example, which illustrates the concept of global scope, and run the code to view the output."
   ]
  },
  {
   "cell_type": "code",
   "execution_count": 8,
   "metadata": {},
   "outputs": [
    {
     "name": "stdout",
     "output_type": "stream",
     "text": [
      "Inside the function:\n",
      "local_variable = 5\n",
      "global_variable = 10\n",
      "\n",
      "Outside the function:\n",
      "global_variable = 10\n"
     ]
    }
   ],
   "source": [
    "global_variable = 10 # This is a global variable\n",
    "\n",
    "def my_function():\n",
    "    local_variable = 5 # This is a local variable\n",
    "    print(\"Inside the function:\")\n",
    "    print(\"local_variable =\", local_variable) # Accessing the local variable\n",
    "    print(\"global_variable =\", global_variable) # Accessing the global variable\n",
    "    \n",
    "my_function() # Call the function\n",
    "\n",
    "print(\"\\nOutside the function:\")\n",
    "print(\"global_variable =\", global_variable) # Accessing the global variable\n",
    "\n",
    "# Attempting to access the local_variable outside the function (will result in a NameError)\n",
    "# print(\"local_variable =\", local_variable)"
   ]
  },
  {
   "cell_type": "markdown",
   "metadata": {},
   "source": [
    "In this example, 'global_variable' is defined in the global scope and is accessible from anywhere in the program. 'my_function' is defined, and within the function, a local variable named 'local_variable' is defined. This local variable is only accessible within the scope of the 'my_function' function.\n",
    "\n",
    "When we call 'my_function(),' it prints the values of both the local and global variables within its scope. However, if you try to access 'local_variabl'e outside the function (as shown in the commented line), it will result in a NameError because local_variable is not defined in the global scope. This demonstrates the concept of local scope in Python, where variables declared within a function are confined to that function's scope.\n",
    "\n",
    "By using local variables, Python function allows for better code organization, reduces naming conflicts, and promotes encapsulation, making it easier to reason about the behavior of a program."
   ]
  },
  {
   "cell_type": "markdown",
   "metadata": {},
   "source": [
    "-------------------------------------------------------------------------------------------------------------------------------\n",
    "**Note**\n",
    "\n",
    "You will learn more about encapsulation in upcoming modules.\n",
    "\n",
    "-------------------------------------------------------------------------------------------------------------------------------"
   ]
  },
  {
   "cell_type": "markdown",
   "metadata": {},
   "source": [
    "## Function Documentation (Docstrings)\n",
    "\n",
    "Writing clear and informative docstrings for your Python functions is essential for code documentation and readability. A docstring is a string literal that appears as the first statement in a function, module, class, or method definition. It provides a concise explanation of the purpose, usage, parameters, and return values of the function. Python's built-in tools, such as help() and documentation generators like Sphinx, use docstrings to generate documentation for your code. \n",
    "\n",
    "Review the following guidelines for writing function docstrings."
   ]
  },
  {
   "cell_type": "markdown",
   "metadata": {},
   "source": [
    "### Step 1: Function Purpose and Description\n",
    "\n",
    "Begin the docstring with a brief, one-line description of the function's purpose and what it does. This should be a concise summary that helps readers quickly understand the function's role."
   ]
  },
  {
   "cell_type": "code",
   "execution_count": 2,
   "metadata": {},
   "outputs": [],
   "source": [
    "# Step 1: Define the function's purpose\n",
    "def calculate_area(radius):\n",
    "    \"\"\"\"\n",
    "    Calculate the area of a circle given its radius.\n",
    "    \"\"\""
   ]
  },
  {
   "cell_type": "markdown",
   "metadata": {},
   "source": [
    "### Step 2: Parameters\n",
    "\n",
    "Describe each parameter the function accepts. Include the parameter name, its data type, and a brief explanation of its purpose. Use the \"Parameters\" section to list all parameters."
   ]
  },
  {
   "cell_type": "code",
   "execution_count": 3,
   "metadata": {},
   "outputs": [],
   "source": [
    "# Example 2: Describe the function parameters\n",
    "def calculate_area(radius):\n",
    "    \"\"\"\"\n",
    "    Calculate the area of a circle given its radius.\n",
    "    \n",
    "    Parameters:\n",
    "    radius (float): The radius of the circle.\n",
    "    \"\"\""
   ]
  },
  {
   "cell_type": "markdown",
   "metadata": {},
   "source": [
    "### Step 3: Return Value\n",
    "\n",
    "Explain what the function returns. Include the data type and describe the significance of the return value. Use the \"Returns\" section to specify the return value."
   ]
  },
  {
   "cell_type": "code",
   "execution_count": 4,
   "metadata": {},
   "outputs": [],
   "source": [
    "# Example 3: Specify a return value\n",
    "def calculate_area(radius):\n",
    "    \"\"\"\"\n",
    "    Calculate the area of a circle given its radius.\n",
    "    \n",
    "    Parameters:\n",
    "    radius (float): The radius of the circle.\n",
    "    \n",
    "    Returns:\n",
    "    float: The area of the circle.\n",
    "    \"\"\""
   ]
  },
  {
   "cell_type": "markdown",
   "metadata": {},
   "source": [
    "### Optional Sections\n",
    "\n",
    "Depending on the complexity of the function, you may include additional sections in your docstring, such as:\n",
    "\n",
    "- **Raises:** If the function can raise exceptions, describe the exceptions and under what circumstances they might occur.\n",
    "- **Examples:** Provide usage examples for the function.\n",
    "- **Notes:** Include any relevant information or considerations that are not covered by the other sections.\n",
    "- **See Also:** Mention related functions, modules, or resources that users might find useful."
   ]
  },
  {
   "cell_type": "code",
   "execution_count": 5,
   "metadata": {},
   "outputs": [],
   "source": [
    "# Example 4: Add optional information\n",
    "def calculate_area(radius):\n",
    "    \"\"\"\"\n",
    "    Calculate the area of a circle given its radius.\n",
    "    \n",
    "    Parameters:\n",
    "    radius (float): The radius of the circle.\n",
    "    \n",
    "    Returns:\n",
    "    float: The area of the circle.\n",
    "    \n",
    "    Examples: \n",
    "        >>> calculate_area(3.0)\n",
    "        28.274333882308138\n",
    "    \"\"\""
   ]
  },
  {
   "cell_type": "markdown",
   "metadata": {},
   "source": [
    "### Additional Docstring Guidelines\n",
    "\n",
    "When creating docstrings, use the following conventions to maintain readability and efficiency:\n",
    "\n",
    "- **Quotation Style:** Python's official style guide, PEP 257, recommends using triple double-quotes (\"\"\") for docstrings. This allows for multi-line docstrings, which are useful for providing detailed explanations.\n",
    "- **Consistency:** Maintain consistency in your docstring style across your codebase. Use the same format for parameters, returns, and other sections in all your docstrings.\n",
    "\n",
    "By following these guidelines and providing well-structured docstrings, you enhance the readability of your code and make it easier for other developers (and yourself) to understand and use your functions. Additionally, tools like __[Sphinx](https://www.sphinx-doc.org/en/master/tutorial/automatic-doc-generation.html)__ can generate documentation from your docstrings, making it even more valuable for larger projects."
   ]
  },
  {
   "cell_type": "markdown",
   "metadata": {},
   "source": [
    "## Function Calling\n",
    "\n",
    "In Python, you can define functions that accept different types of arguments, such as:\n",
    "\n",
    "- positional arguments, \n",
    "- keyword arguments, \n",
    "- default arguments, and \n",
    "- variable-length arguments. \n",
    "\n",
    "Explore the following examples of function calls with different argument types."
   ]
  },
  {
   "cell_type": "markdown",
   "metadata": {},
   "source": [
    "### Positional Arguments\n",
    "\n",
    "Positional arguments are passed to a function in the order they are defined. Review the following example of positional arguments and run the code to view the output."
   ]
  },
  {
   "cell_type": "code",
   "execution_count": 10,
   "metadata": {},
   "outputs": [
    {
     "name": "stdout",
     "output_type": "stream",
     "text": [
      "Hello, Alice!\n"
     ]
    }
   ],
   "source": [
    "# Example 1\n",
    "\n",
    "def greet(name, greeting):\n",
    "    print(f\"{greeting}, {name}!\") \n",
    "\n",
    "greet(\"Alice\", \"Hello\")"
   ]
  },
  {
   "cell_type": "markdown",
   "metadata": {},
   "source": [
    "In this example, the positional arguments \"Alice\" and \"Hello\" are passed to the function 'greet' in the order that the parameters are defined; first 'name' and then 'greeting.'"
   ]
  },
  {
   "cell_type": "markdown",
   "metadata": {},
   "source": [
    "### Keyword  Arguments\n",
    "\n",
    "Keyword arguments are passed with a specific variable name. Review the following example of keyword arguments and run the code to view the output."
   ]
  },
  {
   "cell_type": "code",
   "execution_count": 11,
   "metadata": {},
   "outputs": [
    {
     "name": "stdout",
     "output_type": "stream",
     "text": [
      "Hi, Cheshire Cat!\n"
     ]
    }
   ],
   "source": [
    "# Example 2\n",
    "\n",
    "def greet(name, greeting):\n",
    "    print(f\"{greeting}, {name}!\") \n",
    "          \n",
    "greet(name=\"Cheshire Cat\", greeting=\"Hi\")"
   ]
  },
  {
   "cell_type": "markdown",
   "metadata": {},
   "source": [
    "In this example, the keyword arguments \"Cheshire Cat\" and \"Hi\" are passed with the specific variables names, 'name' and 'greeting' within the function call."
   ]
  },
  {
   "cell_type": "markdown",
   "metadata": {},
   "source": [
    "### Default Arguments\n",
    "\n",
    "Default arguments have a default value if the caller does not provide a value for them. Review the following example of a default argument and run the code to view the output."
   ]
  },
  {
   "cell_type": "code",
   "execution_count": 12,
   "metadata": {},
   "outputs": [
    {
     "name": "stdout",
     "output_type": "stream",
     "text": [
      "Hello, March Hare!\n"
     ]
    }
   ],
   "source": [
    "# Example 3\n",
    "\n",
    "def greet(name, greeting=\"Hello\"):\n",
    "    print(f\"{greeting}, {name}!\") \n",
    "          \n",
    "greet(name=\"March Hare\")"
   ]
  },
  {
   "cell_type": "markdown",
   "metadata": {},
   "source": [
    "In this example, the default value \"Hello\" is assigned to the paramater 'greeting.' Therefore, if the caller does not specify an argument for the 'greeting' paramater when calling the function, the default value is used in the output. As the paramater 'name' does not have a default value, the caller will need to specify this when calling the function."
   ]
  },
  {
   "cell_type": "markdown",
   "metadata": {},
   "source": [
    "### Variable-Length Arguments\n",
    "\n",
    "Functions can accept a variable number of arguments using \\*args (for positional arguments) or \\*\\*kwargs (for keyword arguments). Review the following example of a function that utilizes \\*args."
   ]
  },
  {
   "cell_type": "code",
   "execution_count": 13,
   "metadata": {},
   "outputs": [],
   "source": [
    "# Example 4: Using *args\n",
    "\n",
    "def calculate_sum(*args):\n",
    "    total = 0\n",
    "    for num in args:\n",
    "        total += num\n",
    "    return total\n",
    "\n",
    "result = calculate_sum(1, 2, 3, 4) "
   ]
  },
  {
   "cell_type": "markdown",
   "metadata": {},
   "source": [
    "In this example, the integers 1, 2, 3, and 4 are passed as positional arguments to the 'calculate_sum' function.\n",
    "\n",
    "Review the following example of a function that utilizes \\*\\*kwargs and run the code to view the output."
   ]
  },
  {
   "cell_type": "code",
   "execution_count": 14,
   "metadata": {},
   "outputs": [
    {
     "name": "stdout",
     "output_type": "stream",
     "text": [
      "Person Information:\n",
      "name: Queen of Hearts\n",
      "age: 36\n",
      "country: Wonderland\n"
     ]
    }
   ],
   "source": [
    "# Example 5: Using **kwargs\n",
    "\n",
    "def print_person_info(**kwargs):\n",
    "    print(\"Person Information:\")\n",
    "    for key, value in kwargs.items():\n",
    "        print(f\"{key}: {value}\")\n",
    "        \n",
    "print_person_info(name=\"Queen of Hearts\", age=36, country=\"Wonderland\")"
   ]
  },
  {
   "cell_type": "markdown",
   "metadata": {},
   "source": [
    "In this example, arguments \"Queen of Hearts,\" \"36,\" and \"Wonderland\" are passed with the specific variable names, 'name,' 'age,' and 'country' respectfully when the function is called. "
   ]
  },
  {
   "cell_type": "markdown",
   "metadata": {},
   "source": [
    "# Conclusion\n",
    "\n",
    "Now that you’ve worked through these interactive examples to reinforce your knowledge, you should be able to define simple functions that accept different types of arguments, and that are well-documented.\n",
    "\n",
    "To further your understanding of basic functions and concepts, review the content and engage with the exercises provided by W3Schools and DataCamp:\n",
    "\n",
    "-  __[Python Functions](https://www.w3schools.com/python/python_functions.asp)__\n",
    "-  __[Python Scope](https://www.w3schools.com/python/python_scope.asp)__\n",
    "-  __[Docstrings in Python Tutorial](https://www.datacamp.com/tutorial/docstrings-python)__\n",
    "-  __[Python Function Arguments](https://www.w3schools.com/python/gloss_python_function_arguments.asp)__\n",
    "\n",
    "Next, you will have the opportunity to put your knowledge of basic function techniques into practice through coding challenges."
   ]
  },
  {
   "cell_type": "code",
   "execution_count": null,
   "metadata": {},
   "outputs": [],
   "source": []
  }
 ],
 "metadata": {
  "kernelspec": {
   "display_name": "Python 3",
   "language": "python",
   "name": "python3"
  },
  "language_info": {
   "codemirror_mode": {
    "name": "ipython",
    "version": 3
   },
   "file_extension": ".py",
   "mimetype": "text/x-python",
   "name": "python",
   "nbconvert_exporter": "python",
   "pygments_lexer": "ipython3",
   "version": "3.7.6"
  }
 },
 "nbformat": 4,
 "nbformat_minor": 4
}
