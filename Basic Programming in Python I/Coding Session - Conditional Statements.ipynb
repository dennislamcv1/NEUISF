{
 "cells": [
  {
   "cell_type": "markdown",
   "metadata": {},
   "source": [
    "# Week 4 Coding Session: Conditional Statements"
   ]
  },
  {
   "cell_type": "markdown",
   "metadata": {},
   "source": [
    "## Question 1"
   ]
  },
  {
   "cell_type": "markdown",
   "metadata": {},
   "source": [
    "### Task"
   ]
  },
  {
   "cell_type": "markdown",
   "metadata": {},
   "source": [
    "Write a Python function called calculate_discount(total_price) that takes a float total_price as input and returns the discount percentage based on the following discount tiers:<br>\n",
    "\n",
    "- Total Price >= \\$1000: 20% discount\n",
    "- \\\\$500 <= Total Price < \\\\$1000: 15% discount\n",
    "- \\\\$100 <= Total Price < \\\\$500: 10% discount\n",
    "- Total Price < $100: 5% discount\n",
    "\n",
    "Your function should return the discount percentage as a string. If the input total_price is outside the range of 0 to 10000, your function should return \"Invalid Total Price.\"<br>\n",
    "\n",
    "Write the calculate_discount function and ensure that it adheres to PEP 8 style guidelines for naming conventions, indentation, and formatting."
   ]
  },
  {
   "cell_type": "markdown",
   "metadata": {},
   "source": [
    "Once you have completed the task and are satisfied with your attempt, review the following solution and explanation."
   ]
  },
  {
   "cell_type": "markdown",
   "metadata": {},
   "source": [
    "### Solution"
   ]
  },
  {
   "cell_type": "code",
   "execution_count": 24,
   "metadata": {},
   "outputs": [],
   "source": [
    "def calculate_discount(total_price):\n",
    "    if 0 <= total_price <= 10000:\n",
    "        if total_price >= 1000:\n",
    "            return \"20%\"\n",
    "        elif 500 <= total_price < 1000:\n",
    "            return \"15%\"\n",
    "        elif 100 <= total_price < 500:\n",
    "            return \"10%\"\n",
    "        else:\n",
    "            return \"5%\"\n",
    "    else:\n",
    "        return \"Invalid Total Price.\""
   ]
  },
  {
   "cell_type": "markdown",
   "metadata": {},
   "source": [
    "### Testing Cases"
   ]
  },
  {
   "cell_type": "code",
   "execution_count": 26,
   "metadata": {},
   "outputs": [],
   "source": [
    "assert calculate_discount(2400) == \"20%\"\n",
    "assert calculate_discount(800) == \"15%\"\n",
    "assert calculate_discount(300) == \"10%\"\n",
    "assert calculate_discount(70) == \"5%\"\n",
    "assert calculate_discount(-50) == \"Invalid Total Price.\""
   ]
  },
  {
   "cell_type": "markdown",
   "metadata": {},
   "source": [
    "### Explanation"
   ]
  },
  {
   "cell_type": "markdown",
   "metadata": {},
   "source": [
    "- The function takes the total_price as input.\n",
    "- It checks if the total_price is within the valid range (0 to 10000). If not, it returns \"Invalid Total Price.\"\n",
    "- Based on the given discount tiers, the function calculates and returns the appropriate discount percentage as a string."
   ]
  },
  {
   "cell_type": "markdown",
   "metadata": {},
   "source": [
    "## Question 2"
   ]
  },
  {
   "cell_type": "markdown",
   "metadata": {},
   "source": [
    "### Task"
   ]
  },
  {
   "cell_type": "markdown",
   "metadata": {},
   "source": [
    "Write a Python function called calculate_shipping_cost(weight) that takes a float weight as input and returns the shipping cost based on the following shipping rate:<br>\n",
    "\n",
    "- Weight >= 10 kg: \\\\$10 per kg\n",
    "- 5 kg <= Weight < 10 kg: \\\\$15 per kg\n",
    "- 1 kg <= Weight < 5 kg: \\\\$20 per kg\n",
    "- Weight < 1 kg: \\\\$25 per kg<br>\n",
    "\n",
    "Your function should return the shipping cost as a string in the format \"$X.XX\". If the input weight is outside the range of 0 to 50 kg, your function should return \"Invalid Weight.\" <br>\n",
    "\n",
    "Write the calculate_shipping_cost function and ensure that it adheres to PEP 8 style guidelines for naming conventions, indentation, and formatting."
   ]
  },
  {
   "cell_type": "markdown",
   "metadata": {},
   "source": [
    "Once you have completed the task and are satisfied with your attempt, review the following solution and explanation."
   ]
  },
  {
   "cell_type": "markdown",
   "metadata": {},
   "source": [
    "### Solution"
   ]
  },
  {
   "cell_type": "code",
   "execution_count": 3,
   "metadata": {},
   "outputs": [],
   "source": [
    "def calculate_shipping_cost(weight):\n",
    "    if 0 <= weight <= 50:\n",
    "        if weight >= 10:\n",
    "            shipping_cost = 10 * weight\n",
    "        elif 5 <= weight < 10:\n",
    "            shipping_cost = 15 * weight\n",
    "        elif 1 <= weight < 5:\n",
    "            shipping_cost = 20 * weight\n",
    "        else:\n",
    "            shipping_cost = 25 * weight\n",
    "\n",
    "        return \"${:.2f}\".format(shipping_cost)\n",
    "    else:\n",
    "        return \"Invalid Weight.\""
   ]
  },
  {
   "cell_type": "markdown",
   "metadata": {},
   "source": [
    "### Testing Cases"
   ]
  },
  {
   "cell_type": "code",
   "execution_count": 1,
   "metadata": {},
   "outputs": [
    {
     "ename": "NameError",
     "evalue": "name 'calculate_shipping_cost' is not defined",
     "output_type": "error",
     "traceback": [
      "\u001b[0;31m---------------------------------------------------------------------------\u001b[0m",
      "\u001b[0;31mNameError\u001b[0m                                 Traceback (most recent call last)",
      "\u001b[0;32m<ipython-input-1-47b87a14fa10>\u001b[0m in \u001b[0;36m<module>\u001b[0;34m\u001b[0m\n\u001b[1;32m      1\u001b[0m \u001b[0;31m# Test Case 1: Valid case with weight >= 10 kg\u001b[0m\u001b[0;34m\u001b[0m\u001b[0;34m\u001b[0m\u001b[0;34m\u001b[0m\u001b[0m\n\u001b[0;32m----> 2\u001b[0;31m \u001b[0mprint\u001b[0m\u001b[0;34m(\u001b[0m\u001b[0mcalculate_shipping_cost\u001b[0m\u001b[0;34m(\u001b[0m\u001b[0;36m12.5\u001b[0m\u001b[0;34m)\u001b[0m\u001b[0;34m)\u001b[0m  \u001b[0;31m# Output: \"$125.00\"\u001b[0m\u001b[0;34m\u001b[0m\u001b[0;34m\u001b[0m\u001b[0m\n\u001b[0m\u001b[1;32m      3\u001b[0m \u001b[0;34m\u001b[0m\u001b[0m\n\u001b[1;32m      4\u001b[0m \u001b[0;31m# Test Case 2: Valid case with 5 kg <= weight < 10 kg\u001b[0m\u001b[0;34m\u001b[0m\u001b[0;34m\u001b[0m\u001b[0;34m\u001b[0m\u001b[0m\n\u001b[1;32m      5\u001b[0m \u001b[0mprint\u001b[0m\u001b[0;34m(\u001b[0m\u001b[0mcalculate_shipping_cost\u001b[0m\u001b[0;34m(\u001b[0m\u001b[0;36m8.0\u001b[0m\u001b[0;34m)\u001b[0m\u001b[0;34m)\u001b[0m   \u001b[0;31m# Output: \"$120.00\"\u001b[0m\u001b[0;34m\u001b[0m\u001b[0;34m\u001b[0m\u001b[0m\n",
      "\u001b[0;31mNameError\u001b[0m: name 'calculate_shipping_cost' is not defined"
     ]
    }
   ],
   "source": [
    "# Test Case 1: Valid case with weight >= 10 kg\n",
    "print(calculate_shipping_cost(12.5))  # Output: \"$125.00\"\n",
    "\n",
    "# Test Case 2: Valid case with 5 kg <= weight < 10 kg\n",
    "print(calculate_shipping_cost(8.0))   # Output: \"$120.00\"\n",
    "\n",
    "# Test Case 3: Valid case with 1 kg <= weight < 5 kg\n",
    "print(calculate_shipping_cost(3.5))   # Output: \"$70.00\"\n",
    "\n",
    "# Test Case 4: Valid case with weight < 1 kg\n",
    "print(calculate_shipping_cost(0.75))  # Output: \"$18.75\"\n",
    "\n",
    "# Test Case 5: Invalid case with weight outside the range (more than 50 kg)\n",
    "print(calculate_shipping_cost(60.0))  # Output: \"Invalid Weight.\"\n",
    "\n",
    "# Test Case 6: Invalid case with negative weight\n",
    "print(calculate_shipping_cost(-5.0))  # Output: \"Invalid Weight.\""
   ]
  },
  {
   "cell_type": "markdown",
   "metadata": {},
   "source": [
    "### Explanation"
   ]
  },
  {
   "cell_type": "markdown",
   "metadata": {},
   "source": [
    "- The function takes the weight as input.\n",
    "- It checks if the weight is within the valid range (0 to 50 kg). If not, it returns \"Invalid Weight.\"\n",
    "- Based on the given shipping rate, the function calculates the shipping cost and formats it as a string in the format \"$X.XX.\" \n",
    "- The \"{:.2f}\".format() is used to format the cost with two decimal places."
   ]
  },
  {
   "cell_type": "markdown",
   "metadata": {},
   "source": [
    "## Question 3"
   ]
  },
  {
   "cell_type": "markdown",
   "metadata": {},
   "source": [
    "Write a Python program that calculates the volume of a cylinder using the try-except statement and the formula:<br>\n",
    "\n",
    "Volume = PI × radius**2 × height<br>\n",
    "\n",
    "Your program should prompt the user to enter the radius and height of the cylinder as input, and then it should calculate and display the volume.<br>\n",
    "\n",
    "Write a Python program to achieve this using the try-except statement."
   ]
  },
  {
   "cell_type": "markdown",
   "metadata": {},
   "source": [
    "Once you have completed the task and are satisfied with your attempt, review the following solution and explanation."
   ]
  },
  {
   "cell_type": "markdown",
   "metadata": {},
   "source": [
    "### Solution"
   ]
  },
  {
   "cell_type": "code",
   "execution_count": null,
   "metadata": {},
   "outputs": [],
   "source": [
    "import math\n",
    "\n",
    "def calculate_cylinder_volume(radius, height):\n",
    "    try:\n",
    "        # Attempting to convert inputs to float\n",
    "        radius = float(radius)\n",
    "        height = float(height)\n",
    "\n",
    "        # Calculating the volume\n",
    "        volume = math.pi * radius**2 * height\n",
    "\n",
    "        # Displaying the result\n",
    "        print(f\"The volume of the cylinder is: {volume:.2f}\")\n",
    "    \n",
    "    except ValueError:\n",
    "        # Handling the case where the input is not a valid number\n",
    "        print(\"Invalid input. Please enter valid numeric values for radius and height.\")\n",
    "\n",
    "# Taking user input\n",
    "user_radius = input(\"Enter the radius of the cylinder: \")\n",
    "user_height = input(\"Enter the height of the cylinder: \")\n",
    "\n",
    "# Calculating and displaying the volume\n",
    "calculate_cylinder_volume(user_radius, user_height)"
   ]
  },
  {
   "cell_type": "markdown",
   "metadata": {},
   "source": [
    "### Explanation"
   ]
  },
  {
   "cell_type": "markdown",
   "metadata": {},
   "source": [
    "- The program defines a function calculate_cylinder_volume that takes the radius and height as parameters.\n",
    "- Inside the function, a try-except block is used to handle potential errors when converting user input to float. If the conversion is successful, it calculates the volume using the provided formula.\n",
    "- The program then prompts the user to enter the radius and height of the cylinder, and it calls the calculate_cylinder_volume function to perform the calculation and display the result.\n",
    "- The try-except block ensures that the program gracefully handles input errors, such as entering non-numeric values for the radius and height."
   ]
  },
  {
   "cell_type": "markdown",
   "metadata": {},
   "source": [
    "## Conclusion"
   ]
  },
  {
   "cell_type": "markdown",
   "metadata": {},
   "source": [
    "Now that you have put your knowledge into practice, you should be prepared to tackle the graded assessments for this week. If you are still unclear on any concepts, revisit the 'Review' sections and reach out to your peers for help using the discussion board provided, or Slack."
   ]
  }
 ],
 "metadata": {
  "kernelspec": {
   "display_name": "Python 3",
   "language": "python",
   "name": "python3"
  },
  "language_info": {
   "codemirror_mode": {
    "name": "ipython",
    "version": 3
   },
   "file_extension": ".py",
   "mimetype": "text/x-python",
   "name": "python",
   "nbconvert_exporter": "python",
   "pygments_lexer": "ipython3",
   "version": "3.7.6"
  }
 },
 "nbformat": 4,
 "nbformat_minor": 5
}
