{
 "cells": [
  {
   "cell_type": "markdown",
   "id": "e6bcf13a",
   "metadata": {
    "deletable": false,
    "editable": false,
    "id": "e6bcf13a",
    "nbgrader": {
     "cell_type": "markdown",
     "checksum": "b77c398395d41b2ee22ccd8585b472e8",
     "grade": false,
     "grade_id": "cell-c6582e329c0979fa",
     "locked": true,
     "schema_version": 3,
     "solution": false,
     "task": false
    }
   },
   "source": [
    "#  Coding Challenge\n",
    "### Topic: Values, Variables, and Expressions"
   ]
  },
  {
   "cell_type": "markdown",
   "id": "23a0be0d",
   "metadata": {
    "deletable": false,
    "editable": false,
    "nbgrader": {
     "cell_type": "markdown",
     "checksum": "6424674fbb5b403b39662b6fedbcf02f",
     "grade": false,
     "grade_id": "cell-3a25451e68d39474",
     "locked": true,
     "schema_version": 3,
     "solution": false,
     "task": false
    }
   },
   "source": [
    "### Assignment Instructions"
   ]
  },
  {
   "cell_type": "markdown",
   "id": "613473fd",
   "metadata": {
    "deletable": false,
    "editable": false,
    "nbgrader": {
     "cell_type": "markdown",
     "checksum": "a00d6aa1f056e4990a1a4abc0cbd9a97",
     "grade": false,
     "grade_id": "cell-0f913250e7ace4d4",
     "locked": true,
     "schema_version": 3,
     "solution": false,
     "task": false
    }
   },
   "source": [
    "Write a program that calculates the area of a triangle using the try-except statement and the following formula:\n",
    "\n",
    "` Area = 1/2 × base × height`\n",
    "\n",
    "Your program should prompt the user to enter the base and height of the triangle as input, and then it should calculate and display the area."
   ]
  },
  {
   "cell_type": "code",
   "execution_count": 1,
   "id": "cd6a7d0b",
   "metadata": {
    "deletable": false,
    "nbgrader": {
     "cell_type": "code",
     "checksum": "68eaf84fc1122965a7fa3d2f812da067",
     "grade": false,
     "grade_id": "cell-156ee6f787fa2f19",
     "locked": false,
     "schema_version": 3,
     "solution": true,
     "task": false
    }
   },
   "outputs": [],
   "source": [
    "## GRADED PROGRAM: Calculate the area of a triangle\n",
    "\n",
    "def calculate_triangle_area(): \n",
    "    # your code here\n",
    "    try:\n",
    "        # Prompt the user to enter the triangle's base and height and convert to float values\n",
    "        base = float(input(\"Enter the base of the triangle: \"))\n",
    "        height = float(input(\"Enter the height of the triangle: \"))\n",
    "        \n",
    "        # Check if both the `base` and `height` variables are valid inputs\n",
    "        if base <= 0 or height <= 0:\n",
    "            print(\"Error: Both base and height must be positive numbers.\")\n",
    "        else:\n",
    "            # Calculate the area of the triangle and store this into an 'area' variable using the formula provided\n",
    "            area = 1/2 * base * height\n",
    "            \n",
    "            # Display the final result to the user\n",
    "            print(f\"The area of the triangle with base {base} and height {height} is: {area}\")\n",
    "    except ValueError:\n",
    "        print(\"Error: Please enter valid numerical values for base and height.\")\n",
    "    \n",
    "    "
   ]
  },
  {
   "cell_type": "code",
   "execution_count": 2,
   "id": "c79b8ed1",
   "metadata": {
    "id": "c79b8ed1"
   },
   "outputs": [
    {
     "name": "stdin",
     "output_type": "stream",
     "text": [
      "Enter the base of the triangle:  10\n",
      "Enter the height of the triangle:  10\n"
     ]
    },
    {
     "name": "stdout",
     "output_type": "stream",
     "text": [
      "The area of the triangle with base 10.0 and height 10.0 is: 50.0\n"
     ]
    }
   ],
   "source": [
    "# UNGRADED TEST: Test your program prior to submitting\n",
    "calculate_triangle_area()"
   ]
  },
  {
   "cell_type": "code",
   "execution_count": null,
   "id": "c6d49b7e",
   "metadata": {
    "deletable": false,
    "editable": false,
    "nbgrader": {
     "cell_type": "code",
     "checksum": "4ebe8f06ab7cc44a23bbc24bce83ee5d",
     "grade": true,
     "grade_id": "cell-3826221c8902da1a",
     "locked": true,
     "points": 0,
     "schema_version": 3,
     "solution": false,
     "task": false
    }
   },
   "outputs": [],
   "source": []
  }
 ],
 "metadata": {
  "colab": {
   "provenance": []
  },
  "kernelspec": {
   "display_name": "Python 3 (ipykernel)",
   "language": "python",
   "name": "python3"
  },
  "language_info": {
   "codemirror_mode": {
    "name": "ipython",
    "version": 3
   },
   "file_extension": ".py",
   "mimetype": "text/x-python",
   "name": "python",
   "nbconvert_exporter": "python",
   "pygments_lexer": "ipython3",
   "version": "3.8.18"
  }
 },
 "nbformat": 4,
 "nbformat_minor": 5
}
