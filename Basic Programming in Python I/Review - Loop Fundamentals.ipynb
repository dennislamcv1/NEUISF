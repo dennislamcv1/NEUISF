{
 "cells": [
  {
   "cell_type": "markdown",
   "metadata": {},
   "source": [
    "# Review and Practice\n",
    "\n",
    "Let's examine examples and basic practices to review key learnings on the fundamentals of Python loops. Each key concept is explained and illustrated through the use of an example.\n",
    "\n",
    "Read through the information, review the examples, work through the code analyses, and try your hand \n",
    "at creating your own code to bolster your knowledge."
   ]
  },
  {
   "cell_type": "markdown",
   "metadata": {},
   "source": [
    "## Introduction\n",
    "\n",
    "In Python, loops are used to repeatedly execute a block of code until a specific condition is met. There are two main types of loops in Python:\n",
    "\n",
    "1. For loop\n",
    "2. While loop\n",
    "\n",
    "Both types of loops allow you to control the flow of your program and perform repetitive tasks efficiently. It's important to ensure that the loop's condition will eventually become False to prevent infinite loops, which can hang or crash your program. Loops are fundamental constructs in programming and are used extensively to automate tasks, iterate through data, and solve various computational problems.\n",
    "\n",
    "Let’s review for and while loops in detail through examples."
   ]
  },
  {
   "cell_type": "markdown",
   "metadata": {},
   "source": [
    "### For Loop\n",
    "\n",
    "A for loop is used to iterate over a sequence (such as a list, tuple, string, or range) or any iterable object. It executes a block of code for each item in the sequence.\n",
    "\n",
    "The following example illustrates the basic syntax of a for loop."
   ]
  },
  {
   "cell_type": "markdown",
   "metadata": {},
   "source": [
    "```python\n",
    "for variable in sequence:\n",
    "    # Code to be executed for each item in the sequence\n",
    "```"
   ]
  },
  {
   "cell_type": "markdown",
   "metadata": {},
   "source": [
    "Explore each of the following examples to gain an understanding of the application of for loops."
   ]
  },
  {
   "cell_type": "markdown",
   "metadata": {},
   "source": [
    "#### Example 1: Looping Through a List"
   ]
  },
  {
   "cell_type": "code",
   "execution_count": 1,
   "metadata": {},
   "outputs": [
    {
     "name": "stdout",
     "output_type": "stream",
     "text": [
      "apple\n",
      "banana\n",
      "pear\n"
     ]
    }
   ],
   "source": [
    "fruits = [\"apple\", \"banana\", \"pear\"]\n",
    "\n",
    "for fruit in fruits:\n",
    "    print(fruit)"
   ]
  },
  {
   "cell_type": "markdown",
   "metadata": {},
   "source": [
    "In this example, we have a list called fruits containing three strings. We use a for loop to iterate over each item in the list, and in each iteration, the variable ‘fruit’ takes on the value of the current item. Inside the loop, we print the value of ‘fruit,’ so it will print each fruit in the list one by one."
   ]
  },
  {
   "cell_type": "markdown",
   "metadata": {},
   "source": [
    "#### Example 2: Looping Through a Range of Numbers"
   ]
  },
  {
   "cell_type": "code",
   "execution_count": 2,
   "metadata": {},
   "outputs": [
    {
     "name": "stdout",
     "output_type": "stream",
     "text": [
      "1\n",
      "2\n",
      "3\n",
      "4\n"
     ]
    }
   ],
   "source": [
    "for i in range(1, 5):\n",
    "    print(i)"
   ]
  },
  {
   "cell_type": "markdown",
   "metadata": {},
   "source": [
    "This loop will iterate through the numbers 1 to 4 (notice that 5 is not included in range (1, 5) and print each number. "
   ]
  },
  {
   "cell_type": "markdown",
   "metadata": {},
   "source": [
    "-------------------------------------------------------------------------------------------------------------------------------\n",
    "**Note:**\n",
    "\n",
    "To print the numbers from 1 to 5, you need to use range(1, 6).\n",
    "\n",
    "-------------------------------------------------------------------------------------------------------------------------------"
   ]
  },
  {
   "cell_type": "markdown",
   "metadata": {},
   "source": [
    "#### Example 3: Looping Through a String"
   ]
  },
  {
   "cell_type": "code",
   "execution_count": 3,
   "metadata": {},
   "outputs": [
    {
     "name": "stdout",
     "output_type": "stream",
     "text": [
      "P\n",
      "y\n",
      "t\n",
      "h\n",
      "o\n",
      "n\n",
      "i\n",
      "s\n",
      "c\n",
      "o\n",
      "o\n",
      "l\n",
      ".\n"
     ]
    }
   ],
   "source": [
    "sentence = \"Python is cool.\"\n",
    "for char in sentence:\n",
    "    if char != \" \":\n",
    "        print(char)"
   ]
  },
  {
   "cell_type": "markdown",
   "metadata": {},
   "source": [
    "This loop iterates through a string and prints each character except for spaces. The for loop can be used to analyze or manipulate the characters in sentences."
   ]
  },
  {
   "cell_type": "markdown",
   "metadata": {},
   "source": [
    "#### Example 4: Looping Through a List of Names"
   ]
  },
  {
   "cell_type": "code",
   "execution_count": 4,
   "metadata": {},
   "outputs": [
    {
     "name": "stdout",
     "output_type": "stream",
     "text": [
      "Your 1st travel destination is Japan.\n",
      "Your 2nd travel destination is France.\n",
      "Your 3rd travel destination is Italy.\n",
      "Your 4th travel destination is Spain.\n"
     ]
    }
   ],
   "source": [
    "countries = [\"Japan\", \"France\", \"Italy\", \"Spain\"]\n",
    "n = 0 \n",
    "for country in countries:\n",
    "    n = n + 1\n",
    "    if n == 1:\n",
    "        ordinal = \"st\"\n",
    "    elif n == 2:\n",
    "        ordinal = \"nd\"\n",
    "    elif n == 3:\n",
    "        ordinal = \"rd\"\n",
    "    else:\n",
    "        ordinal = \"th\"\n",
    "    print(\"Your \" + str(n) + ordinal + \" travel destination is \" + country + \".\")"
   ]
  },
  {
   "cell_type": "markdown",
   "metadata": {},
   "source": [
    "Let's break down the code step by step:\n",
    "\n",
    "- **countries = [\"Japan\", \"France\", \"Italy\", \"Spain\"]:** This line creates a list called ‘countries’ that contains four country names.\n",
    "- **n = 0:** This line initializes a variable, ‘n,’ to 0. This variable will be used to keep track of the ordinal number.\n",
    "- **for country in countries:** This line starts a for loop that iterates through each element in the countries list, and in each iteration, the current country is assigned to the variable ‘country.’\n",
    "- **n = n + 1:** Inside the loop, this line increments the ‘n’ variable by 1 in each iteration. This is used to track the ordinal number.\n",
    "- The if-elif-else block:\n",
    "    - **if n == 1:** If ‘n’ is 1 (the first iteration), it sets ordinal to \"st\".\n",
    "    - **elif n == 2:** If ‘n’ is 2 (the second iteration), it sets ordinal to \"nd\".\n",
    "    - **elif n == 3:** If ‘n’ is 3 (the third iteration), it sets ordinal to \"rd\".\n",
    "    - **else:** For all other values of ‘n,’ it sets ordinal to \"th\". This covers cases where ‘n’ is greater than 3.\n",
    "- **print(\"Your \" + str(n) + ordinal + \" travel destination is \" + country + \".\"):** This line prints a sentence that combines: \"Your \" with the ordinal number (‘n’ converted to a string), the ordinal itself, the string \" travel destination is \" and the name of the current country.\n"
   ]
  },
  {
   "cell_type": "markdown",
   "metadata": {},
   "source": [
    "### While Loop\n",
    "\n",
    "A while loop repeatedly executes a block of code as long as a specified condition is True. It is useful when you don't know in advance how many times the loop needs to run.\n",
    "\n",
    "The following example illustrates the basic syntax of a while loop."
   ]
  },
  {
   "cell_type": "markdown",
   "metadata": {},
   "source": [
    "```python\n",
    "while condition:\n",
    "    # Code to be executed as long as the condition is True\n",
    "```"
   ]
  },
  {
   "cell_type": "markdown",
   "metadata": {},
   "source": [
    "Review the following examples which demonstrate different use cases for while loops."
   ]
  },
  {
   "cell_type": "markdown",
   "metadata": {},
   "source": [
    "#### Example 1: Incrementing a Count"
   ]
  },
  {
   "cell_type": "code",
   "execution_count": 5,
   "metadata": {},
   "outputs": [
    {
     "name": "stdout",
     "output_type": "stream",
     "text": [
      "Count: 0\n",
      "Count: 1\n",
      "Count: 2\n"
     ]
    }
   ],
   "source": [
    "count = 0\n",
    "while count < 3:\n",
    "    print(\"Count:\", count)\n",
    "    count += 1"
   ]
  },
  {
   "cell_type": "markdown",
   "metadata": {},
   "source": [
    "In this example, we have a while loop that will continue to execute its block of code as long as the condition ‘count < 3’ is True.\n",
    "\n",
    "Let’s break down the code:\n",
    "\n",
    "- First, we initialize a variable, ‘count’ to 0.\n",
    "- The while loop checks if ‘count’ is less than 3. Since 0 is less than 3, the condition is True, and the loop's code block is executed.\n",
    "- Inside the loop, it prints the current value of ‘count’ and then increments it by 1 using ‘count += 1.’\n",
    "- The loop then goes back to the condition. As long as ‘count’ remains less than 3, the loop continues to execute.\n",
    "\n",
    "The loop stops when ‘count’ becomes 3 because at that point, the condition ‘count < 3’ is no longer True."
   ]
  },
  {
   "cell_type": "markdown",
   "metadata": {},
   "source": [
    "#### Example 2: Initiating a Countdown"
   ]
  },
  {
   "cell_type": "code",
   "execution_count": 6,
   "metadata": {},
   "outputs": [
    {
     "name": "stdout",
     "output_type": "stream",
     "text": [
      "5\n",
      "4\n",
      "3\n",
      "2\n",
      "1\n",
      "Blast off!\n"
     ]
    }
   ],
   "source": [
    "countdown = 5 \n",
    "while countdown > 0:\n",
    "    print(countdown)\n",
    "    countdown -= 1\n",
    "print(\"Blast off!\") "
   ]
  },
  {
   "cell_type": "markdown",
   "metadata": {},
   "source": [
    "In this example, the while loop counts down from 5 to 1 and then prints \"Blast off!\" after the loop finishes."
   ]
  },
  {
   "cell_type": "markdown",
   "metadata": {},
   "source": [
    "#### Example 3: User Input Validation"
   ]
  },
  {
   "cell_type": "code",
   "execution_count": null,
   "metadata": {},
   "outputs": [],
   "source": [
    "password = \"INFO_5002@\"\n",
    "user_input = input(\"Enter the password: \")\n",
    "while user_input != password:\n",
    "    print(\"Incorrect password. Try again.\")\n",
    "    user_input = input(\"Enter the password: \")\n",
    "print(\"Access granted!\")"
   ]
  },
  {
   "cell_type": "markdown",
   "metadata": {},
   "source": [
    "This code uses a while loop to repeatedly ask the user for a password until they enter the correct one."
   ]
  },
  {
   "cell_type": "markdown",
   "metadata": {},
   "source": [
    "#### Example 4: Iterative Calculation"
   ]
  },
  {
   "cell_type": "code",
   "execution_count": null,
   "metadata": {},
   "outputs": [],
   "source": [
    "total = 0\n",
    "num = 1\n",
    "while num <= 10:\n",
    "    total += num\n",
    "    num += 1\n",
    "print(\"The sum of numbers from 1 to 10 is:\", total)"
   ]
  },
  {
   "cell_type": "markdown",
   "metadata": {},
   "source": [
    "Here, the while loop calculates the sum of numbers from 1 to 10 and then prints the result."
   ]
  },
  {
   "cell_type": "markdown",
   "metadata": {},
   "source": [
    "# Conclusion\n",
    "\n",
    "Now that you’ve worked through these interactive examples to reinforce your knowledge, you should be able to use loops to iterate over elements and perform repeated conditional execution.\n",
    "\n",
    "To further your understanding of for loops and while loops, review the content and engage with the exercises provided by W3Schools:\n",
    "\n",
    "-  __[Python For Loops](https://www.w3schools.com/python/python_for_loops.asp)__\n",
    "-  __[Python While Loops](https://www.w3schools.com/python/python_while_loops.asp)__\n",
    "\n",
    "Next, you will have the opportunity to explore how loops are used in practice and put your knowledge to the test in a coding challenge."
   ]
  }
 ],
 "metadata": {
  "kernelspec": {
   "display_name": "Python 3",
   "language": "python",
   "name": "python3"
  },
  "language_info": {
   "codemirror_mode": {
    "name": "ipython",
    "version": 3
   },
   "file_extension": ".py",
   "mimetype": "text/x-python",
   "name": "python",
   "nbconvert_exporter": "python",
   "pygments_lexer": "ipython3",
   "version": "3.7.6"
  }
 },
 "nbformat": 4,
 "nbformat_minor": 4
}
