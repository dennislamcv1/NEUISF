{
 "cells": [
  {
   "cell_type": "markdown",
   "metadata": {},
   "source": [
    "# Review and Practice\n",
    "\n",
    "Let's examine examples and basic practices to review key learnings on Python conditionals. Each key concept is explained and illustrated through the use of an example.\n",
    "\n",
    "Read through the information, review the examples, work through the code analyses, and try your hand \n",
    "at creating your own code to bolster your knowledge."
   ]
  },
  {
   "cell_type": "markdown",
   "metadata": {},
   "source": [
    "## Introduction\n",
    "\n",
    "Conditionals are fundamental constructs in programming, and they are essential for several reasons.\n",
    "\n",
    "1. **Decision-Making:** Conditionals allow a program to make decisions and choose different paths of execution based on specific conditions or inputs. This enables a program to respond dynamically to various situations.\n",
    "\n",
    "2. **Control Flow:** Conditionals control the flow of a program. They determine which statements or blocks of code are executed and which are skipped, helping to guide the program's execution logic.\n",
    "\n",
    "3. **Error Handling:** Conditionals can be used to handle errors and exceptional cases in a program. They allow you to anticipate potential issues and implement error-handling routines to gracefully manage unexpected situations.\n",
    "\n",
    "4. **User Interaction:** Conditionals are crucial for user interaction in software applications. They enable programs to respond to user input, validate input data, and provide feedback or responses.\n",
    "\n",
    "5. **Algorithm Design:** Many algorithms, especially in sorting, searching, and optimization, rely heavily on conditional statements to make decisions during their execution. Conditionals are fundamental in algorithm design and optimization.\n",
    "\n",
    "6. **Business Logic:** In business and data-driven applications, conditionals are used to implement business rules and logic. They determine how data is processed, analyzed, and presented to users or other systems."
   ]
  },
  {
   "cell_type": "markdown",
   "metadata": {},
   "source": [
    "## Recall: Comparison Operators\n",
    "\n",
    "In Week 2, we practiced using comparison operators for basic arithmetic operations. Take a moment to refresh your memory on how they are used.\n",
    "\n",
    "Comparison operators in Python are used to compare two values and determine the relationship between them. These operators return a Boolean value, which is either True or False, depending on whether the comparison is true or false. Comparison operators are commonly used in conditional statements, loops, and other control structures to make decisions in your code. \n",
    "\n",
    "Review the following list of comparison operators."
   ]
  },
  {
   "cell_type": "markdown",
   "metadata": {},
   "source": [
    "| Operator                     | Symbol |\n",
    "|:-----------------------------|:-------|\n",
    "| **Equal to**                 |   ==   |\n",
    "| **Not equal to**             |   !=   |\n",
    "| **Less than**                |    <   |\n",
    "| **Greater than**             |    >   |\n",
    "| **Less than or equal to**    |   <=   |\n",
    "| **Greater than or equal to** |   =>   |"
   ]
  },
  {
   "cell_type": "markdown",
   "metadata": {},
   "source": [
    "These operators are fundamental for making decisions in your code. For example, conditional statements compare a left-hand term to a right-hand term. If the condition indicated by the comparison operator is true, the program performs certain actions. Comparisons can be made between numbers, strings, or other data types. "
   ]
  },
  {
   "cell_type": "markdown",
   "metadata": {},
   "source": [
    "## Conditional Statements\n",
    "\n",
    "There are three types of conditional statements:\n",
    "\n",
    "1. if statements\n",
    "2. else statements\n",
    "3. if-elif-else statements\n",
    "\n",
    "Let’s explore each of these conditional statements in detail."
   ]
  },
  {
   "cell_type": "markdown",
   "metadata": {},
   "source": [
    "### If Statements\n",
    "\n",
    "If statements use a condition to decide whether to execute a block of code. This condition is a Boolean expression that evaluates to either True or False.\n",
    "\n",
    "The following example illustrates the basic structure of an if statement."
   ]
  },
  {
   "cell_type": "markdown",
   "metadata": {},
   "source": [
    "```python\n",
    "if condition:\n",
    "    # Code to execute if the condition is True\n",
    "```"
   ]
  },
  {
   "cell_type": "markdown",
   "metadata": {},
   "source": [
    "If the condition is True, the compiler will register it as true and execute the code block indented under the if statement.  If the condition is False, the code block is skipped, and execution continues with the code following the if statement.\n",
    "\n",
    "Review the following example of an if statement and run the code to view the output."
   ]
  },
  {
   "cell_type": "code",
   "execution_count": null,
   "metadata": {},
   "outputs": [],
   "source": [
    "x = int(input(\"What's x? \")) \n",
    "y = int(input(\"What's y? \"))\n",
    "if x < y:\n",
    "    print(\"x is less than y\")"
   ]
  },
  {
   "cell_type": "markdown",
   "metadata": {},
   "source": [
    "In this example, the input() function takes user input from the keyboard and stores it as a string. It allows your program to interact with the user by prompting them for input and then reading and processing the input they provide.\n",
    "\n",
    "A string cannot be used for arithmetic operation. We hence use int() function to convert the user-inputted value to an integer (whole number) if possible. It can convert various types of values, such as strings and floating-point numbers, into integers.\n",
    "\n",
    "If you input 'x = 3' and 'y = 5,' the condition 'x < y' evaluates to be 'True.' Consequently, the print statement is executed. \n",
    "\n",
    "This is a basic example of using an if statement to make a decision based on a condition. Depending on the condition's truth value, different actions are taken."
   ]
  },
  {
   "cell_type": "markdown",
   "metadata": {},
   "source": [
    "### If-Else Statements\n",
    "\n",
    "An if-else statement in Python is used to create a conditional structure in your code where you can specify two blocks of code to execute based on a condition: \n",
    "\n",
    "1. one block if the condition is true, and \n",
    "2. another block if the condition is false. \n",
    "\n",
    "It allows you to make decisions in your program by choosing between two alternative courses of action.\n",
    "\n",
    "The following example illustrates the basic structure of an if-else statement."
   ]
  },
  {
   "cell_type": "markdown",
   "metadata": {},
   "source": [
    "```python\n",
    "if condition:\n",
    "    # Code to execute if the condition is True\n",
    "else:\n",
    "    # Code to execute if the condition is False\n",
    "```"
   ]
  },
  {
   "cell_type": "markdown",
   "metadata": {},
   "source": [
    "The ‘if’ keyword is followed by a condition enclosed in parentheses. This condition is a Boolean expression that evaluates to either True or False. If the condition is True, the code block indented under the if statement is executed, and the code block under the else statement is skipped. If the condition is False, the code block indented under the if statement is skipped, and the code block under the else statement is executed.\n",
    "\n",
    "Review the following example of an if-else statement and run the code to view the output."
   ]
  },
  {
   "cell_type": "code",
   "execution_count": null,
   "metadata": {},
   "outputs": [],
   "source": [
    "number = int(input(\"Enter a number: \"))\n",
    "\n",
    "if number % 2 == 0:\n",
    "    print(number, \"is even.\")\n",
    "else:\n",
    "    print(number, \"is odd.\")"
   ]
  },
  {
   "cell_type": "markdown",
   "metadata": {},
   "source": [
    "Here, we use the input() function to retrieve user input for a number and convert it to an integer using int(). We then use an if-else statement to check if the number is even or odd. The if statement checks whether the number is even. If the number is divided by 2 and leaves a remainder of ‘0’, it is even. If the number provided by the user is even, the interpreter prints the string “‘user number’ is even.” If the number is not even, the if block is skipped and the code under the else statement is executed, printing the string “‘user number’ is odd.”"
   ]
  },
  {
   "cell_type": "markdown",
   "metadata": {},
   "source": [
    "-------------------------------------------------------------------------------------------------------------------------------\n",
    "**Note**\n",
    "\n",
    "Recall that the % operator in Python is known as the ‘modulo’ operator. The modulo operator is used to identify the remainder of a division operation.\n",
    "\n",
    "-------------------------------------------------------------------------------------------------------------------------------"
   ]
  },
  {
   "cell_type": "markdown",
   "metadata": {},
   "source": [
    "In summary, the if-else statement in programming can be understood philosophically as a representation of logical reasoning. The ‘if’ part represents a conditional proposition or statement. The ‘else’ part represents an alternative proposition or statement that holds true if the initial condition (the ‘if’) is false. When more than two conditions need to be considered, you need to use if-elif-else statements. "
   ]
  },
  {
   "cell_type": "markdown",
   "metadata": {},
   "source": [
    "### If-Elif-Else Statements\n",
    "\n",
    "An if-elif-else statement in Python is a conditional structure that allows you to handle multiple conditions and execute different blocks of code based on the evaluation of these conditions. It's an extension of the basic if-else statement and provides a way to handle more than just two possible outcomes.\n",
    "\n",
    "The following example illustrates the basic structure of an if-elif-else statement."
   ]
  },
  {
   "cell_type": "markdown",
   "metadata": {},
   "source": [
    "```python\n",
    "if condition1:\n",
    "    # Code to execute if condition1 is True\n",
    "elif condition2:\n",
    "    # Code to execute if condition2 is True\n",
    "else:\n",
    "    # Code to execute if none of the conditions are True\n",
    "```"
   ]
  },
  {
   "cell_type": "markdown",
   "metadata": {},
   "source": [
    "The ‘if’ keyword is followed by a condition enclosed in parentheses. If this condition is True, the code block indented under the if statement is executed. If the if condition is False, the program checks the next elif (else if) condition. If the elif condition is True, the code block indented under that elif statement is executed.\n",
    "\n",
    "This process continues down the chain of elif statements until a condition evaluates to True or until the else block is reached. If none of the conditions are True and there is an else block, the code under the else block is executed."
   ]
  },
  {
   "cell_type": "markdown",
   "metadata": {},
   "source": [
    "-------------------------------------------------------------------------------------------------------------------------------\n",
    "**Note**\n",
    "\n",
    "You can have multiple elif blocks to handle more conditions, making the if-elif-else statement a powerful tool for handling complex decision-making in your code.\n",
    "\n",
    "-------------------------------------------------------------------------------------------------------------------------------"
   ]
  },
  {
   "cell_type": "markdown",
   "metadata": {},
   "source": [
    "Review the following example of an if-elif-else statement and run the code to view the output."
   ]
  },
  {
   "cell_type": "code",
   "execution_count": null,
   "metadata": {},
   "outputs": [],
   "source": [
    "favorite_color = input(\"What is your favorite color? \")\n",
    "\n",
    "if favorite_color.lower() == \"blue\":\n",
    "    print(\"Great choice! Blue is a beautiful color.\")\n",
    "elif favorite_color.lower() == \"red\":\n",
    "    print(\"Red is a bold and vibrant color.\")\n",
    "elif favorite_color.lower() == \"green\":\n",
    "    print(\"Green is the color of nature and tranquility.\")\n",
    "else:\n",
    "    print(\"That's an interesting choice! I like all colors.\")"
   ]
  },
  {
   "cell_type": "markdown",
   "metadata": {},
   "source": [
    "Here, we use the input() function to retrieve the user’s favorite color as an input. We then use an if-else statement to adapt to different scenarios, based on the user’s input. .lower() is used to convert the user’s input to lowercase to make the comparison case-insensitive. The if-elif blocks are used to provide responses based on the user’s favorite color. The else block provides a more generic response, should the user input a color not included in the if or elif statements.\n",
    "\n",
    "This demonstrates how an if-elif-else statement can be used to handle various scenarios and adapt the program's behavior accordingly."
   ]
  },
  {
   "cell_type": "markdown",
   "metadata": {},
   "source": [
    "## Try-Except Statements\n",
    "\n",
    "A statement related to conditional statements which we haven’t covered thus far is the try-except statement. In Python, the try-except statement is commonly referred to as \"exception handling\" or \"error handling.\" It is used to catch and handle exceptions (errors) that may occur during the execution of a program.\n",
    "\n",
    "The try block contains the code that may raise exceptions, and the except block specifies how to handle those exceptions if they occur. By using try-except blocks, you can gracefully handle errors and prevent them from causing your program to crash.\n",
    "\n",
    "The following example illustrates the basic structure of a try-except statement."
   ]
  },
  {
   "cell_type": "markdown",
   "metadata": {},
   "source": [
    "```python\n",
    "try:\n",
    "    # Code that may raise an exception goes here\n",
    "except SomeExceptionType:\n",
    "    # Code to handle the exception goes here\n",
    "```"
   ]
  },
  {
   "cell_type": "markdown",
   "metadata": {},
   "source": [
    "The try block contains the code that you want to execute, which might potentially raise an exception. The except block specifies what should happen if a specific exception of the SomeExceptionType is raised. You can specify different except blocks for different types of exceptions or use a generic except block to catch all exceptions.\n",
    "\n",
    "Overall, the try-except statement is a fundamental part of error handling in Python, allowing you to write robust and reliable code by gracefully managing unexpected situations.\n",
    "\n",
    "Review the following example of a try-except statement and run the code to view the output."
   ]
  },
  {
   "cell_type": "code",
   "execution_count": null,
   "metadata": {},
   "outputs": [],
   "source": [
    "try:\n",
    "    num1 = float(input(\"Enter the first number: \"))\n",
    "    num2 = float(input(\"Enter the second number: \"))\n",
    "\n",
    "    result = num1 / num2\n",
    "\n",
    "    print(\"Result:\", result)\n",
    "\n",
    "except ZeroDivisionError:\n",
    "    print(\"Error: Division by zero is not allowed.\")\n",
    "    \n",
    "except ValueError:\n",
    "    print(\"Error: Invalid input. Please enter valid numbers.\")"
   ]
  },
  {
   "cell_type": "markdown",
   "metadata": {},
   "source": [
    "In this example, we use a try block to contain the code that may raise exceptions. Inside the try block, we attempt to perform division (num1 / num2) which could potentially raise two types of exceptions:\n",
    "\n",
    "1. ZeroDivisionError: Raised when the user enters 0 as the second number.\n",
    "2. ValueError: Raised when the user enters something that cannot be converted to a float (e.g., a non-numeric input).\n",
    "\n",
    "We use except blocks to handle these exceptions:\n",
    "\n",
    "1. The except ZeroDivisionError block handles the case where division by zero occurs and prints an error message \"Error: Division by zero is not allowed.\"\n",
    "2. The except Value Error block handles the case where the user enters invalid input and prints an error message \"Error: Invalid input. Please enter valid numbers.\"\n",
    "\n",
    "By using the try-except statement, we can gracefully handle these exceptions and provide meaningful feedback to the user when errors occur, preventing the program from crashing."
   ]
  },
  {
   "cell_type": "markdown",
   "metadata": {},
   "source": [
    "# Conclusion\n",
    "\n",
    "Now that you’ve worked through these interactive examples to reinforce your knowledge, you should be able to use conditional statements to create dynamic and responsive decision-making programs.\n",
    "\n",
    "To further your understanding of conditional statements, review the content and engage with the exercises provided by W3Schools:\n",
    "\n",
    "-  __[Python If Statement](https://www.w3schools.com/python/gloss_python_if_statement.asp)__\n",
    "-  __[Python If Else](https://www.w3schools.com/python/gloss_python_else.asp)__\n",
    "-  __[Python If Elif](https://www.w3schools.com/python/gloss_python_elif.asp)__\n",
    "-  __[Python If ... Else](https://www.w3schools.com/python/python_conditions.asp)__\n",
    "-  __[Python Try Except](https://www.w3schools.com/python/python_try_except.asp)__\n",
    "\n",
    "Next, you will have the opportunity to put your knowledge of conditional statements into practice through coding challenges."
   ]
  },
  {
   "cell_type": "code",
   "execution_count": null,
   "metadata": {},
   "outputs": [],
   "source": []
  }
 ],
 "metadata": {
  "kernelspec": {
   "display_name": "Python 3",
   "language": "python",
   "name": "python3"
  },
  "language_info": {
   "codemirror_mode": {
    "name": "ipython",
    "version": 3
   },
   "file_extension": ".py",
   "mimetype": "text/x-python",
   "name": "python",
   "nbconvert_exporter": "python",
   "pygments_lexer": "ipython3",
   "version": "3.7.6"
  }
 },
 "nbformat": 4,
 "nbformat_minor": 4
}
