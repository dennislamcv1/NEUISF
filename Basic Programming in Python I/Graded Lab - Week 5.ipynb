{
 "cells": [
  {
   "cell_type": "markdown",
   "metadata": {
    "id": "439bd223"
   },
   "source": [
    "# Week 5: Graded Lab\n",
    "### Topic: Functions"
   ]
  },
  {
   "cell_type": "markdown",
   "metadata": {},
   "source": [
    "### Assignment Instructions\n",
    "Write a Python function called calculate_factorial(n) that calculates the factorial of a non-negative integer n. The factorial of a non-negative integer n, denoted as n!, is the product of all positive integers from 1 to n. Write the calculate_factorial function, and ensure that it adheres to PEP 8 style guidelines for naming conventions, indentation, and formatting."
   ]
  },
  {
   "cell_type": "markdown",
   "metadata": {
    "id": "afb00b0e"
   },
   "source": [
    "### Grading Rubric\n",
    "\n",
    "The code will be graded based on the following criteria.\n",
    "\n",
    "**Function Definition (1 point):**\n",
    "- The function is named appropriately.\n",
    "- The function takes a single paramater.\n",
    "\n",
    "**Docstring (1 point):**\n",
    "- A docstring is provided.\n",
    "- The docstring clearly explains the purpose of the function, its parameters, and return value. \n",
    "\n",
    "**Base Cases Handling (2 points):**\n",
    "- The function correctly handles the base cases where n is 0 or 1, returning 1.\n",
    "\n",
    "**Factorial Calculation (3 points):**\n",
    "- The function correctly calculates the factorial using a loop.\n",
    "- The loop iterates from 1 to n inclusive.\n",
    "\n",
    "**PEP 8 Compliance (1 point):**\n",
    "- The function adheres to PEP 8 naming conventions.\n",
    "- Proper indentation and formatting are used.\n",
    "- There are two blank lines before the function definition.\n",
    "- Code is adequately commented where necessary.\n",
    "- The code is readable and well-organized.\n",
    "\n",
    "**Testing (1 point):**\n",
    "- The function is tested with at least two test cases.\n",
    "\n",
    "**Efficiency (1 point):**\n",
    "- The function is reasonably efficient in terms of time complexity for calculating factorials.\n",
    "\n",
    "**Total Score:** 10 points."
   ]
  },
  {
   "cell_type": "markdown",
   "metadata": {},
   "source": [
    "## Submit Your Work \n",
    "\n",
    "This week, your code will be manually graded by course staff. Please follow the instructions within the following Staff Graded Assignment to submit a copy of your notebook for review."
   ]
  },
  {
   "cell_type": "code",
   "execution_count": 2,
   "id": "32253a7d",
   "metadata": {},
   "outputs": [],
   "source": [
    "def calculate_factorial(n):\n",
    "    \"\"\"\n",
    "    Calculate the factorial of a non-negative integer n.\n",
    "\n",
    "    Parameters:\n",
    "    n (int): A non-negative integer whose factorial is to be calculated.\n",
    "\n",
    "    Returns:\n",
    "    int: The factorial of the given integer n.\n",
    "\n",
    "    Raises:\n",
    "    ValueError: If n is a negative integer.\n",
    "    \"\"\"\n",
    "    if not isinstance(n, int) or n < 0:\n",
    "        raise ValueError(\"Input must be a non-negative integer.\")\n",
    "    \n",
    "    if n == 0 or n == 1:\n",
    "        return 1\n",
    "    \n",
    "    factorial = 1\n",
    "    for i in range(2, n + 1):\n",
    "        factorial *= i\n",
    "    \n",
    "    return factorial\n"
   ]
  },
  {
   "cell_type": "code",
   "execution_count": 3,
   "id": "7457b1da",
   "metadata": {},
   "outputs": [
    {
     "name": "stdout",
     "output_type": "stream",
     "text": [
      "120\n",
      "1\n",
      "5040\n"
     ]
    }
   ],
   "source": [
    "print(calculate_factorial(5))  # Output: 120\n",
    "print(calculate_factorial(0))  # Output: 1\n",
    "print(calculate_factorial(7))  # Output: 5040\n"
   ]
  }
 ],
 "metadata": {
  "colab": {
   "provenance": []
  },
  "kernelspec": {
   "display_name": "Python 3",
   "language": "python",
   "name": "python3"
  },
  "language_info": {
   "codemirror_mode": {
    "name": "ipython",
    "version": 3
   },
   "file_extension": ".py",
   "mimetype": "text/x-python",
   "name": "python",
   "nbconvert_exporter": "python",
   "pygments_lexer": "ipython3",
   "version": "3.8.18"
  }
 },
 "nbformat": 4,
 "nbformat_minor": 5
}
