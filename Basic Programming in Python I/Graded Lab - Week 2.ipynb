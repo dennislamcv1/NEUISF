{
 "cells": [
  {
   "cell_type": "markdown",
   "id": "e6bcf13a",
   "metadata": {
    "deletable": false,
    "editable": false,
    "id": "e6bcf13a",
    "nbgrader": {
     "cell_type": "markdown",
     "checksum": "b77c398395d41b2ee22ccd8585b472e8",
     "grade": false,
     "grade_id": "cell-c6582e329c0979fa",
     "locked": true,
     "schema_version": 3,
     "solution": false,
     "task": false
    }
   },
   "source": [
    "#  Week 2: Graded Lab \n",
    "### Topic: Values, Variables, and Expressions"
   ]
  },
  {
   "cell_type": "markdown",
   "id": "23a0be0d",
   "metadata": {
    "deletable": false,
    "editable": false,
    "nbgrader": {
     "cell_type": "markdown",
     "checksum": "6424674fbb5b403b39662b6fedbcf02f",
     "grade": false,
     "grade_id": "cell-3a25451e68d39474",
     "locked": true,
     "schema_version": 3,
     "solution": false,
     "task": false
    }
   },
   "source": [
    "### Assignment Instructions"
   ]
  },
  {
   "cell_type": "markdown",
   "id": "613473fd",
   "metadata": {
    "deletable": false,
    "editable": false,
    "nbgrader": {
     "cell_type": "markdown",
     "checksum": "a00d6aa1f056e4990a1a4abc0cbd9a97",
     "grade": false,
     "grade_id": "cell-0f913250e7ace4d4",
     "locked": true,
     "schema_version": 3,
     "solution": false,
     "task": false
    }
   },
   "source": [
    "In this assignment, you will write a Python program that calculates the area of a triangle using an if-else statement and the following formula:\n",
    "\n",
    "` Area = 1/2 × base × height`\n",
    "\n",
    "Your program should:\n",
    "- Prompt the user to enter the base and height of the triangle as input\n",
    "- Then it should calculate and display the area. \n",
    "\n",
    "When you run this program, input the base and height when prompted, and it will calculate and display the area of the triangle."
   ]
  },
  {
   "cell_type": "markdown",
   "id": "4c78b5e4",
   "metadata": {
    "deletable": false,
    "editable": false,
    "id": "4c78b5e4",
    "nbgrader": {
     "cell_type": "markdown",
     "checksum": "eeb95c353e6d50c335924c10831d9b57",
     "grade": false,
     "grade_id": "cell-52d53c53ca45de4e",
     "locked": true,
     "schema_version": 3,
     "solution": false,
     "task": false
    }
   },
   "source": [
    "### Assignment Grading Rubric\n",
    "Your Python program this week will be submitted for autograding and will be scored on the following criteria:\n",
    "- 2 points: Properly prompts the user for input.\n",
    "- 2 points: Accurately calculates the area using the provided formula.\n",
    "- 2 points: Displays the calculated area.\n",
    "- 2 points: Handles potential errors or invalid input (e.g., non-numeric input).\n",
    "- 2 points: Code is well-documented and easy to understand."
   ]
  },
  {
   "cell_type": "markdown",
   "id": "54ae3a93",
   "metadata": {
    "deletable": false,
    "editable": false,
    "nbgrader": {
     "cell_type": "markdown",
     "checksum": "311c1221a32d90d5cc52c612ffeafe7b",
     "grade": false,
     "grade_id": "cell-206858a36d700595",
     "locked": true,
     "schema_version": 3,
     "solution": false,
     "task": false
    }
   },
   "source": [
    "### Let's Write Your Program!\n",
    "Please write your Python program within the `calculate_triangle_area` function below.   \n",
    "You should add your code in the areas indicated with `# your code here`. \n",
    "\n",
    "**Important Note: Please do not modify the provided function or variable names as this will cause errors in autograding.**"
   ]
  },
  {
   "cell_type": "code",
   "execution_count": 1,
   "id": "cd6a7d0b",
   "metadata": {
    "deletable": false,
    "nbgrader": {
     "cell_type": "code",
     "checksum": "68eaf84fc1122965a7fa3d2f812da067",
     "grade": false,
     "grade_id": "cell-156ee6f787fa2f19",
     "locked": false,
     "schema_version": 3,
     "solution": true,
     "task": false
    }
   },
   "outputs": [],
   "source": [
    "## GRADED PROGRAM: Calculate the area of a triangle\n",
    "\n",
    "def calculate_triangle_area(): \n",
    "    # your code here\n",
    "    try:\n",
    "        # Prompt the user to enter the triangle's base and height and convert to float values\n",
    "        base = float(input(\"Enter the base of the triangle: \"))\n",
    "        height = float(input(\"Enter the height of the triangle: \"))\n",
    "        \n",
    "        # Check if both the `base` and `height` variables are valid inputs\n",
    "        if base <= 0 or height <= 0:\n",
    "            print(\"Error: Both base and height must be positive numbers.\")\n",
    "        else:\n",
    "            # Calculate the area of the triangle and store this into an 'area' variable using the formula provided\n",
    "            area = 1/2 * base * height\n",
    "            \n",
    "            # Display the final result to the user\n",
    "            print(f\"The area of the triangle with base {base} and height {height} is: {area}\")\n",
    "    except ValueError:\n",
    "        print(\"Error: Please enter valid numerical values for base and height.\")\n",
    "    \n",
    "    # Note: Please be sure to remove the placeholder \"raise NotImplementedError\" line before submitting your work.\n",
    "    \n",
    "    # Prompt the user to enter the triangle's base and height when the program is run and convert to float values.\n",
    "    #base = # your code here\n",
    "    #height = # your code here\n",
    "    \n",
    "    # Check if both the `base` and `height` variables are valid inputs. \n",
    "    # If they are not, print a descriptive error message including the word \"Error\" and do not continue the program. \n",
    "    # <your code here>\n",
    "    \n",
    "    # Calculate the area of the triangle and store this into an 'area' variable using the formula provided.\n",
    "    #area = # your code here\n",
    "\n",
    "    # If there are no errors, display the final result to the user after they run the program in the following format. \n",
    "    # Display Message: \"The area of the triangle with base <your_base> and height <your_height> is: <your_area>\""
   ]
  },
  {
   "cell_type": "markdown",
   "id": "54e80433",
   "metadata": {
    "deletable": false,
    "editable": false,
    "id": "54e80433",
    "nbgrader": {
     "cell_type": "markdown",
     "checksum": "52c4ee4cfa8607d15cd33aab213aec8d",
     "grade": false,
     "grade_id": "cell-f0885995b0c42c99",
     "locked": true,
     "schema_version": 3,
     "solution": false,
     "task": false
    }
   },
   "source": [
    "##### Testing Your Code\n",
    "Now that you've implemented your Python program in the `calculate_triangle_area()` function,  \n",
    "you can test your program by running the following Jupyter Notebook cell and entering a sample base and height when prompted.\n",
    "\n",
    "*Note: The test cell below does NOT count toward your grade, but is for your own testing purposes prior to submitting your work. When autograding feedback is delivered, it is expected that this test cell will deliver a StdinNotImplementedError in autograder feedback without user inputs provided, but this will not impact your score.*"
   ]
  },
  {
   "cell_type": "code",
   "execution_count": 2,
   "id": "c79b8ed1",
   "metadata": {
    "id": "c79b8ed1"
   },
   "outputs": [
    {
     "name": "stdout",
     "output_type": "stream",
     "text": [
      "Enter the base of the triangle: 10\n",
      "Enter the height of the triangle: 10\n",
      "The area of the triangle with base 10.0 and height 10.0 is: 50.0\n"
     ]
    }
   ],
   "source": [
    "# UNGRADED TEST: Test your program prior to submitting\n",
    "calculate_triangle_area()"
   ]
  },
  {
   "cell_type": "markdown",
   "id": "ec69123c",
   "metadata": {
    "deletable": false,
    "editable": false,
    "nbgrader": {
     "cell_type": "markdown",
     "checksum": "1e851cc95d7da4803722aa3504a9e592",
     "grade": false,
     "grade_id": "cell-545ef8434a6913a4",
     "locked": true,
     "schema_version": 3,
     "solution": false,
     "task": false
    }
   },
   "source": [
    "## Submit your Code For Autograding\n",
    "\n",
    "Once you're ready to submit your work, select the blue \"Submit Assignment\" button at the top of your lab.  \n",
    "\n",
    "Your program will run against a series of five hidden tests in the autograder, based on the grading rubric listed above. When autograding is complete, you'll see your score and feedback in the \"Grades\" tab of your Lab, or the \"My Submissions\" tab when you access the Programming Assignment item for this lab. "
   ]
  },
  {
   "cell_type": "code",
   "execution_count": 3,
   "id": "302700fc",
   "metadata": {
    "deletable": false,
    "editable": false,
    "nbgrader": {
     "cell_type": "code",
     "checksum": "128e06505fa02aa724bed0f3e0fc7d3d",
     "grade": true,
     "grade_id": "cell-ee92f46fa286df3c",
     "locked": true,
     "points": 2,
     "schema_version": 3,
     "solution": false,
     "task": false
    }
   },
   "outputs": [],
   "source": [
    "### AUTOGRADED TEST CASE 1: Program properly prompts the user for input. (2 pts)"
   ]
  },
  {
   "cell_type": "code",
   "execution_count": 4,
   "id": "e5b34a37",
   "metadata": {
    "deletable": false,
    "editable": false,
    "nbgrader": {
     "cell_type": "code",
     "checksum": "303a5bef2d7252799280ab7e18d5cf89",
     "grade": true,
     "grade_id": "cell-76efa169f71ea2b9",
     "locked": true,
     "points": 2,
     "schema_version": 3,
     "solution": false,
     "task": false
    }
   },
   "outputs": [],
   "source": [
    "### AUTOGRADED TEST CASE 2: Program accurately calculates the area using the provided formula. (2 pts)"
   ]
  },
  {
   "cell_type": "code",
   "execution_count": 5,
   "id": "32410185",
   "metadata": {
    "deletable": false,
    "editable": false,
    "nbgrader": {
     "cell_type": "code",
     "checksum": "8e0c12ff7482f3385f0abcd686ac81f2",
     "grade": true,
     "grade_id": "cell-6ed3e28fbe260fce",
     "locked": true,
     "points": 2,
     "schema_version": 3,
     "solution": false,
     "task": false
    }
   },
   "outputs": [],
   "source": [
    "### AUTOGRADED TEST CASE 3: Program displays the calculated area. (2 pts)"
   ]
  },
  {
   "cell_type": "code",
   "execution_count": 6,
   "id": "b1a817e9",
   "metadata": {
    "deletable": false,
    "editable": false,
    "nbgrader": {
     "cell_type": "code",
     "checksum": "8d6b68b3576ebf6e5d8c789ceab03e53",
     "grade": true,
     "grade_id": "cell-76eb8d6bf99582e6",
     "locked": true,
     "points": 2,
     "schema_version": 3,
     "solution": false,
     "task": false
    }
   },
   "outputs": [],
   "source": [
    "### AUTOGRADED TEST CASE 4: Program handles potential errors or invalid input (e.g., non-numeric input) (2 pts)"
   ]
  },
  {
   "cell_type": "code",
   "execution_count": 7,
   "id": "c2923f93",
   "metadata": {
    "deletable": false,
    "editable": false,
    "nbgrader": {
     "cell_type": "code",
     "checksum": "5bca84759008c27de5eb943bf47d48ee",
     "grade": true,
     "grade_id": "cell-90d0a0c4ff47aff1",
     "locked": true,
     "points": 2,
     "schema_version": 3,
     "solution": false,
     "task": false
    }
   },
   "outputs": [],
   "source": [
    "### AUTOGRADED TEST CASE 5: Code is well-documented and easy to understand. (2 pts)"
   ]
  },
  {
   "cell_type": "code",
   "execution_count": null,
   "id": "c6d49b7e",
   "metadata": {
    "deletable": false,
    "editable": false,
    "nbgrader": {
     "cell_type": "code",
     "checksum": "4ebe8f06ab7cc44a23bbc24bce83ee5d",
     "grade": true,
     "grade_id": "cell-3826221c8902da1a",
     "locked": true,
     "points": 0,
     "schema_version": 3,
     "solution": false,
     "task": false
    }
   },
   "outputs": [],
   "source": []
  }
 ],
 "metadata": {
  "colab": {
   "provenance": []
  },
  "kernelspec": {
   "display_name": "Python 3 (ipykernel)",
   "language": "python",
   "name": "python3"
  },
  "language_info": {
   "codemirror_mode": {
    "name": "ipython",
    "version": 3
   },
   "file_extension": ".py",
   "mimetype": "text/x-python",
   "name": "python",
   "nbconvert_exporter": "python",
   "pygments_lexer": "ipython3",
   "version": "3.10.6"
  }
 },
 "nbformat": 4,
 "nbformat_minor": 5
}
